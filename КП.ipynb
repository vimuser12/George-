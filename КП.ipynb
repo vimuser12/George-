{
 "cells": [
  {
   "cell_type": "code",
   "execution_count": 6,
   "id": "854cac4c-093f-4a71-93ba-b661ab57ba1e",
   "metadata": {},
   "outputs": [
    {
     "name": "stdout",
     "output_type": "stream",
     "text": [
      "Requirement already satisfied: pandas in c:\\anaconda\\lib\\site-packages (1.4.4)\n",
      "Requirement already satisfied: numpy in c:\\anaconda\\lib\\site-packages (1.21.5)\n",
      "Requirement already satisfied: matplotlib in c:\\anaconda\\lib\\site-packages (3.5.2)\n",
      "Requirement already satisfied: seaborn in c:\\anaconda\\lib\\site-packages (0.11.2)\n",
      "Requirement already satisfied: xgboost in c:\\anaconda\\lib\\site-packages (2.1.3)\n",
      "Requirement already satisfied: shap in c:\\anaconda\\lib\\site-packages (0.46.0)\n",
      "Requirement already satisfied: scikit-learn in c:\\anaconda\\lib\\site-packages (1.0.2)\n",
      "Requirement already satisfied: pytz>=2020.1 in c:\\anaconda\\lib\\site-packages (from pandas) (2022.1)\n",
      "Requirement already satisfied: python-dateutil>=2.8.1 in c:\\anaconda\\lib\\site-packages (from pandas) (2.8.2)\n",
      "Requirement already satisfied: pillow>=6.2.0 in c:\\anaconda\\lib\\site-packages (from matplotlib) (9.2.0)\n",
      "Requirement already satisfied: kiwisolver>=1.0.1 in c:\\anaconda\\lib\\site-packages (from matplotlib) (1.4.2)\n",
      "Requirement already satisfied: fonttools>=4.22.0 in c:\\anaconda\\lib\\site-packages (from matplotlib) (4.25.0)\n",
      "Requirement already satisfied: packaging>=20.0 in c:\\anaconda\\lib\\site-packages (from matplotlib) (21.3)\n",
      "Requirement already satisfied: pyparsing>=2.2.1 in c:\\anaconda\\lib\\site-packages (from matplotlib) (3.0.9)\n",
      "Requirement already satisfied: cycler>=0.10 in c:\\anaconda\\lib\\site-packages (from matplotlib) (0.11.0)\n",
      "Requirement already satisfied: scipy>=1.0 in c:\\anaconda\\lib\\site-packages (from seaborn) (1.9.1)\n",
      "Requirement already satisfied: cloudpickle in c:\\anaconda\\lib\\site-packages (from shap) (2.0.0)\n",
      "Requirement already satisfied: tqdm>=4.27.0 in c:\\anaconda\\lib\\site-packages (from shap) (4.64.1)\n",
      "Requirement already satisfied: numba in c:\\anaconda\\lib\\site-packages (from shap) (0.55.1)\n",
      "Requirement already satisfied: slicer==0.0.8 in c:\\anaconda\\lib\\site-packages (from shap) (0.0.8)\n",
      "Requirement already satisfied: joblib>=0.11 in c:\\anaconda\\lib\\site-packages (from scikit-learn) (1.1.0)\n",
      "Requirement already satisfied: threadpoolctl>=2.0.0 in c:\\anaconda\\lib\\site-packages (from scikit-learn) (2.2.0)\n",
      "Requirement already satisfied: six>=1.5 in c:\\anaconda\\lib\\site-packages (from python-dateutil>=2.8.1->pandas) (1.16.0)\n",
      "Requirement already satisfied: colorama in c:\\anaconda\\lib\\site-packages (from tqdm>=4.27.0->shap) (0.4.5)\n",
      "Requirement already satisfied: setuptools in c:\\anaconda\\lib\\site-packages (from numba->shap) (63.4.1)\n",
      "Requirement already satisfied: llvmlite<0.39,>=0.38.0rc1 in c:\\anaconda\\lib\\site-packages (from numba->shap) (0.38.0)\n",
      "Note: you may need to restart the kernel to use updated packages.\n"
     ]
    }
   ],
   "source": [
    "pip install pandas numpy matplotlib seaborn xgboost shap scikit-learn"
   ]
  },
  {
   "cell_type": "code",
   "execution_count": 7,
   "id": "c305a06e",
   "metadata": {},
   "outputs": [
    {
     "name": "stdout",
     "output_type": "stream",
     "text": [
      "Requirement already satisfied: xgboost in c:\\anaconda\\lib\\site-packages (2.1.3)\n",
      "Requirement already satisfied: scipy in c:\\anaconda\\lib\\site-packages (from xgboost) (1.9.1)\n",
      "Requirement already satisfied: numpy in c:\\anaconda\\lib\\site-packages (from xgboost) (1.21.5)\n"
     ]
    }
   ],
   "source": [
    "!pip install xgboost\n"
   ]
  },
  {
   "cell_type": "code",
   "execution_count": 8,
   "id": "6c9b6675",
   "metadata": {},
   "outputs": [
    {
     "name": "stdout",
     "output_type": "stream",
     "text": [
      "Requirement already satisfied: shap in c:\\anaconda\\lib\\site-packages (0.46.0)\n",
      "Requirement already satisfied: numba in c:\\anaconda\\lib\\site-packages (from shap) (0.55.1)\n",
      "Requirement already satisfied: scipy in c:\\anaconda\\lib\\site-packages (from shap) (1.9.1)\n",
      "Requirement already satisfied: cloudpickle in c:\\anaconda\\lib\\site-packages (from shap) (2.0.0)\n",
      "Requirement already satisfied: tqdm>=4.27.0 in c:\\anaconda\\lib\\site-packages (from shap) (4.64.1)\n",
      "Requirement already satisfied: slicer==0.0.8 in c:\\anaconda\\lib\\site-packages (from shap) (0.0.8)\n",
      "Requirement already satisfied: pandas in c:\\anaconda\\lib\\site-packages (from shap) (1.4.4)\n",
      "Requirement already satisfied: scikit-learn in c:\\anaconda\\lib\\site-packages (from shap) (1.0.2)\n",
      "Requirement already satisfied: packaging>20.9 in c:\\anaconda\\lib\\site-packages (from shap) (21.3)\n",
      "Requirement already satisfied: numpy in c:\\anaconda\\lib\\site-packages (from shap) (1.21.5)\n",
      "Requirement already satisfied: pyparsing!=3.0.5,>=2.0.2 in c:\\anaconda\\lib\\site-packages (from packaging>20.9->shap) (3.0.9)\n",
      "Requirement already satisfied: colorama in c:\\anaconda\\lib\\site-packages (from tqdm>=4.27.0->shap) (0.4.5)\n",
      "Requirement already satisfied: setuptools in c:\\anaconda\\lib\\site-packages (from numba->shap) (63.4.1)\n",
      "Requirement already satisfied: llvmlite<0.39,>=0.38.0rc1 in c:\\anaconda\\lib\\site-packages (from numba->shap) (0.38.0)\n",
      "Requirement already satisfied: pytz>=2020.1 in c:\\anaconda\\lib\\site-packages (from pandas->shap) (2022.1)\n",
      "Requirement already satisfied: python-dateutil>=2.8.1 in c:\\anaconda\\lib\\site-packages (from pandas->shap) (2.8.2)\n",
      "Requirement already satisfied: threadpoolctl>=2.0.0 in c:\\anaconda\\lib\\site-packages (from scikit-learn->shap) (2.2.0)\n",
      "Requirement already satisfied: joblib>=0.11 in c:\\anaconda\\lib\\site-packages (from scikit-learn->shap) (1.1.0)\n",
      "Requirement already satisfied: six>=1.5 in c:\\anaconda\\lib\\site-packages (from python-dateutil>=2.8.1->pandas->shap) (1.16.0)\n",
      "Note: you may need to restart the kernel to use updated packages.\n"
     ]
    }
   ],
   "source": [
    "pip install shap\n"
   ]
  },
  {
   "cell_type": "code",
   "execution_count": 9,
   "id": "44c97aa4",
   "metadata": {
    "scrolled": false
   },
   "outputs": [
    {
     "data": {
      "text/html": [
       "        <script type=\"text/javascript\">\n",
       "        window.PlotlyConfig = {MathJaxConfig: 'local'};\n",
       "        if (window.MathJax && window.MathJax.Hub && window.MathJax.Hub.Config) {window.MathJax.Hub.Config({SVG: {font: \"STIX-Web\"}});}\n",
       "        if (typeof require !== 'undefined') {\n",
       "        require.undef(\"plotly\");\n",
       "        requirejs.config({\n",
       "            paths: {\n",
       "                'plotly': ['https://cdn.plot.ly/plotly-2.12.1.min']\n",
       "            }\n",
       "        });\n",
       "        require(['plotly'], function(Plotly) {\n",
       "            window._Plotly = Plotly;\n",
       "        });\n",
       "        }\n",
       "        </script>\n",
       "        "
      ]
     },
     "metadata": {},
     "output_type": "display_data"
    },
    {
     "name": "stdout",
     "output_type": "stream",
     "text": [
      "Лучшие гиперпараметры: {'colsample_bytree': 0.8, 'learning_rate': 0.05, 'max_depth': 6, 'n_estimators': 100, 'subsample': 0.8}\n",
      "RMSE после настройки: 0.56\n",
      "R² после настройки: 0.68\n"
     ]
    },
    {
     "data": {
      "image/png": "[encoded data removed]",
      "text/plain": [
       "<Figure size 1000x600 with 1 Axes>"
      ]
     },
     "metadata": {},
     "output_type": "display_data"
    },
    {
     "data": {
      "text/plain": [
       "<Figure size 800x600 with 0 Axes>"
      ]
     },
     "metadata": {},
     "output_type": "display_data"
    },
    {
     "data": {
      "image/png": "[encoded data removed]",
      "text/plain": [
       "<Figure size 640x480 with 1 Axes>"
      ]
     },
     "metadata": {},
     "output_type": "display_data"
    },
    {
     "data": {
      "image/png": "[encoded data removed]",
      "text/plain": [
       "<Figure size 800x600 with 2 Axes>"
      ]
     },
     "metadata": {},
     "output_type": "display_data"
    },
    {
     "name": "stdout",
     "output_type": "stream",
     "text": [
      "Значимость отдельных признаков (RMSE):\n",
      "sizeMin: RMSE = 0.58\n",
      "bathrooms: RMSE = 0.72\n",
      "bedrooms: RMSE = 0.68\n"
     ]
    },
    {
     "data": {
      "image/png": "[encoded data removed]",
      "text/plain": [
       "<Figure size 800x270 with 2 Axes>"
      ]
     },
     "metadata": {},
     "output_type": "display_data"
    },
    {
     "data": {
      "application/vnd.plotly.v1+json": {
       "config": {
        "plotlyServerURL": "https://plot.ly"
       },
       "data": [
        {
         "branchvalues": "total",
         "customdata": [
          [
           1
          ],
          [
           8
          ],
          [
           9
          ],
          [
           2
          ],
          [
           28
          ],
          [
           5
          ],
          [
           4
          ],
          [
           16
          ],
          [
           12
          ],
          [
           3
          ],
          [
           1
          ],
          [
           1
          ],
          [
           1
          ],
          [
           122
          ],
          [
           4
          ],
          [
           1
          ],
          [
           50
          ],
          [
           31
          ],
          [
           8
          ],
          [
           11
          ],
          [
           15
          ],
          [
           12
          ],
          [
           3
          ],
          [
           13
          ],
          [
           1
          ],
          [
           3
          ],
          [
           25
          ],
          [
           1
          ],
          [
           67
          ],
          [
           4
          ],
          [
           10
          ],
          [
           7
          ],
          [
           3
          ],
          [
           1
          ],
          [
           9
          ],
          [
           4
          ],
          [
           2
          ],
          [
           1
          ],
          [
           2
          ],
          [
           3
          ],
          [
           1
          ],
          [
           7
          ],
          [
           1
          ],
          [
           1
          ],
          [
           1
          ],
          [
           2
          ],
          [
           19
          ],
          [
           69
          ],
          [
           1
          ],
          [
           4
          ],
          [
           1
          ],
          [
           1
          ],
          [
           3
          ],
          [
           2
          ],
          [
           24
          ],
          [
           11
          ],
          [
           1
          ],
          [
           1
          ],
          [
           1
          ],
          [
           1
          ],
          [
           1
          ],
          [
           7
          ],
          [
           17
          ],
          [
           33
          ],
          [
           1
          ],
          [
           35
          ],
          [
           5
          ],
          [
           1
          ],
          [
           40
          ],
          [
           28
          ],
          [
           11
          ],
          [
           64
          ],
          [
           106
          ],
          [
           4
          ],
          [
           8
          ],
          [
           180
          ],
          [
           32
          ],
          [
           14
          ],
          [
           95
          ],
          [
           28
          ],
          [
           80
          ],
          [
           77
          ],
          [
           33
          ],
          [
           27
          ],
          [
           240
          ],
          [
           3
          ],
          [
           117
          ],
          [
           6
          ],
          [
           1
          ],
          [
           97
          ],
          [
           8
          ],
          [
           154
          ],
          [
           3
          ],
          [
           69
          ],
          [
           116
          ],
          [
           187
          ],
          [
           3
          ],
          [
           38
          ],
          [
           39
          ],
          [
           10
          ],
          [
           13
          ],
          [
           87
          ],
          [
           76
          ],
          [
           11
          ],
          [
           3
          ],
          [
           3
          ],
          [
           6
          ],
          [
           2
          ],
          [
           1
          ],
          [
           6
          ],
          [
           3
          ],
          [
           1
          ],
          [
           7
          ],
          [
           17
          ],
          [
           40
          ],
          [
           8
          ],
          [
           37
          ],
          [
           51
          ],
          [
           63
          ],
          [
           49
          ],
          [
           2
          ],
          [
           11
          ],
          [
           108
          ],
          [
           24
          ],
          [
           211
          ],
          [
           50
          ],
          [
           17
          ],
          [
           2
          ],
          [
           9
          ],
          [
           7
          ],
          [
           2
          ],
          [
           12
          ],
          [
           7
          ],
          [
           12
          ],
          [
           1
          ],
          [
           6
          ],
          [
           107
          ],
          [
           66
          ],
          [
           11
          ],
          [
           4
          ],
          [
           208
          ],
          [
           24
          ],
          [
           26
          ],
          [
           17
          ],
          [
           17
          ],
          [
           20
          ],
          [
           1
          ],
          [
           11
          ],
          [
           14
          ],
          [
           125
          ],
          [
           3
          ],
          [
           1
          ],
          [
           1
          ],
          [
           1
          ],
          [
           15
          ],
          [
           23
          ],
          [
           19
          ],
          [
           58
          ],
          [
           5
          ],
          [
           3
          ],
          [
           15
          ],
          [
           2
          ],
          [
           2
          ],
          [
           3
          ],
          [
           5
          ],
          [
           1
          ],
          [
           15
          ],
          [
           28
          ],
          [
           68
          ],
          [
           8
          ],
          [
           15
          ],
          [
           1
          ],
          [
           65
          ],
          [
           40
          ],
          [
           73
          ],
          [
           10
          ],
          [
           3
          ],
          [
           37
          ],
          [
           5
          ],
          [
           9
          ],
          [
           1
          ],
          [
           113
          ],
          [
           1
          ],
          [
           23
          ],
          [
           62.49030470914128
          ],
          [
           21.214285714285715
          ],
          [
           1
          ],
          [
           107.82641700404858
          ],
          [
           2
          ],
          [
           57.73737373737374
          ],
          [
           27.74436090225564
          ],
          [
           9.181818181818182
          ],
          [
           94.95687222893994
          ]
         ],
         "domain": {
          "x": [
           0,
           1
          ],
          "y": [
           0,
           1
          ]
         },
         "hovertemplate": "labels=%{label}<br>count_sum=%{value}<br>parent=%{parent}<br>id=%{id}<br>count=%{color}<extra></extra>",
         "ids": [
          "All Cities/Ajman/Ajman Corniche Road",
          "All Cities/Ajman/Ajman Downtown",
          "All Cities/Ajman/Al Alia",
          "All Cities/Ajman/Al Ameera Village",
          "All Cities/Ajman/Al Amerah",
          "All Cities/Sharjah/Al Badie",
          "All Cities/Ajman/Al Bahia",
          "All Cities/Dubai/Al Barari",
          "All Cities/Dubai/Al Barsha",
          "All Cities/Ajman/Al Bustan",
          "All Cities/Al Ain/Al Dhahir",
          "All Cities/Ras Al Khaimah/Al Dhait",
          "All Cities/Al Ain/Al Faqa'a",
          "All Cities/Dubai/Al Furjan",
          "All Cities/Abu Dhabi/Al Ghadeer",
          "All Cities/Ajman/Al Hamidiya",
          "All Cities/Ras Al Khaimah/Al Hamra Village",
          "All Cities/Sharjah/Al Hamriyah",
          "All Cities/Sharjah/Al Heerah",
          "All Cities/Ajman/Al Helio",
          "All Cities/Dubai/Al Jaddaf",
          "All Cities/Abu Dhabi/Al Jubail Island",
          "All Cities/Sharjah/Al Khan",
          "All Cities/Dubai/Al Kifaf",
          "All Cities/Ras Al Khaimah/Al Mairid",
          "All Cities/Sharjah/Al Majaz",
          "All Cities/Sharjah/Al Mamzar - Sharjah",
          "All Cities/Abu Dhabi/Al Maqtaa",
          "All Cities/Ras Al Khaimah/Al Marjan Island",
          "All Cities/Abu Dhabi/Al Maryah Island",
          "All Cities/Ajman/Al Mowaihat",
          "All Cities/Dubai/Al Muhaisnah",
          "All Cities/Abu Dhabi/Al Mushrif",
          "All Cities/Sharjah/Al Nahda",
          "All Cities/Ras Al Khaimah/Al Nakheel",
          "All Cities/Ajman/Al Nuaimiya",
          "All Cities/Sharjah/Al Nujoom Islands",
          "All Cities/Sharjah/Al Qasimia",
          "All Cities/Dubai/Al Quoz",
          "All Cities/Abu Dhabi/Al Qurm",
          "All Cities/Ras Al Khaimah/Al Qusaidat",
          "All Cities/Abu Dhabi/Al Raha Beach",
          "All Cities/Abu Dhabi/Al Raha Gardens",
          "All Cities/Abu Dhabi/Al Raha Golf Gardens",
          "All Cities/Sharjah/Al Rahmaniya",
          "All Cities/Ajman/Al Rawda",
          "All Cities/Abu Dhabi/Al Reef",
          "All Cities/Abu Dhabi/Al Reem Island",
          "All Cities/Sharjah/Al Riqqa",
          "All Cities/Sharjah/Al Rowdat Suburb",
          "All Cities/Dubai/Al Safa",
          "All Cities/Abu Dhabi/Al Samha",
          "All Cities/Dubai/Al Satwa",
          "All Cities/Ajman/Al Sawan",
          "All Cities/Abu Dhabi/Al Shamkha",
          "All Cities/Dubai/Al Sufouh",
          "All Cities/Umm Al Quwain/Al Surra",
          "All Cities/Sharjah/Al Tai",
          "All Cities/Ajman/Al Tallah 2",
          "All Cities/Dubai/Al Twar",
          "All Cities/Dubai/Al Warqa'a",
          "All Cities/Dubai/Al Warsan",
          "All Cities/Dubai/Al Wasl",
          "All Cities/Ajman/Al Yasmeen",
          "All Cities/Dubai/Al Yelayiss 1",
          "All Cities/Ajman/Al Zahya",
          "All Cities/Ajman/Al Zorah",
          "All Cities/Sharjah/Al Zubair",
          "All Cities/Sharjah/Aljada",
          "All Cities/Dubai/Arabian Ranches",
          "All Cities/Dubai/Arabian Ranches 2",
          "All Cities/Dubai/Arabian Ranches 3",
          "All Cities/Dubai/Arjan",
          "All Cities/Dubai/Barsha Heights (Tecom)",
          "All Cities/Dubai/Bluewaters",
          "All Cities/Dubai/Business Bay",
          "All Cities/Dubai/City Walk",
          "All Cities/Dubai/Culture Village",
          "All Cities/Dubai/DAMAC Hills",
          "All Cities/Dubai/DIFC",
          "All Cities/Dubai/Damac Hills 2",
          "All Cities/Dubai/Damac Lagoons",
          "All Cities/Dubai/Deira",
          "All Cities/Dubai/Discovery Gardens",
          "All Cities/Dubai/Downtown Dubai",
          "All Cities/Dubai/Downtown Jebel Ali",
          "All Cities/Dubai/Dubai Creek Harbour (The Lagoons)",
          "All Cities/Dubai/Dubai Design District",
          "All Cities/Dubai/Dubai Festival City",
          "All Cities/Dubai/Dubai Harbour",
          "All Cities/Dubai/Dubai Healthcare City",
          "All Cities/Dubai/Dubai Hills Estate",
          "All Cities/Dubai/Dubai Internet City",
          "All Cities/Dubai/Dubai Investment Park (DIP)",
          "All Cities/Dubai/Dubai Land",
          "All Cities/Dubai/Dubai Marina",
          "All Cities/Dubai/Dubai Media City",
          "All Cities/Dubai/Dubai Production City (IMPZ)",
          "All Cities/Dubai/Dubai Residence Complex",
          "All Cities/Dubai/Dubai Science Park",
          "All Cities/Dubai/Dubai Silicon Oasis",
          "All Cities/Dubai/Dubai South (Dubai World Central)",
          "All Cities/Dubai/Dubai Sports City",
          "All Cities/Dubai/Dubai Studio City",
          "All Cities/Ajman/Emirates City",
          "All Cities/Dubai/Emirates Hills 2",
          "All Cities/Dubai/Expo City",
          "All Cities/Dubai/Falcon City of Wonders",
          "All Cities/Ajman/Garden City",
          "All Cities/Abu Dhabi/Ghantoot",
          "All Cities/Dubai/Golf City",
          "All Cities/Abu Dhabi/Grand Mosque District",
          "All Cities/Dubai/Green Community",
          "All Cities/Dubai/Greens",
          "All Cities/Sharjah/Hayyan",
          "All Cities/Dubai/International City",
          "All Cities/Dubai/Jebel Ali",
          "All Cities/Dubai/Jumeirah",
          "All Cities/Dubai/Jumeirah Beach Residence",
          "All Cities/Dubai/Jumeirah Golf Estates",
          "All Cities/Dubai/Jumeirah Heights",
          "All Cities/Dubai/Jumeirah Islands",
          "All Cities/Dubai/Jumeirah Lake Towers",
          "All Cities/Dubai/Jumeirah Park",
          "All Cities/Dubai/Jumeirah Village Circle",
          "All Cities/Dubai/Jumeirah Village Triangle",
          "All Cities/Abu Dhabi/Khalifa City",
          "All Cities/Fujairah/Khor Fakkan",
          "All Cities/Dubai/Living Legends",
          "All Cities/Dubai/Majan",
          "All Cities/Ajman/Manama",
          "All Cities/Dubai/Maritime City",
          "All Cities/Sharjah/Maryam Island",
          "All Cities/Abu Dhabi/Masdar City",
          "All Cities/Ajman/Masfoot",
          "All Cities/Dubai/Meadows",
          "All Cities/Dubai/Meydan",
          "All Cities/Ras Al Khaimah/Mina Al Arab",
          "All Cities/Dubai/Mina Rashid",
          "All Cities/Dubai/Mirdif",
          "All Cities/Dubai/Mohammed Bin Rashid City",
          "All Cities/Dubai/Motor City",
          "All Cities/Dubai/Mudon",
          "All Cities/Sharjah/Muwaileh",
          "All Cities/Sharjah/Muwaileh Commercial",
          "All Cities/Dubai/Nad Al Sheba",
          "All Cities/Abu Dhabi/Nareel Island",
          "All Cities/Dubai/Old Town",
          "All Cities/Dubai/Palm Jebel Ali",
          "All Cities/Dubai/Palm Jumeirah",
          "All Cities/Abu Dhabi/Ramhan Island",
          "All Cities/Ras Al Khaimah/Ras Al Khaimah Waterfront",
          "All Cities/Dubai/Ras Al Khor",
          "All Cities/Ras Al Khaimah/Ras al Khaimah Gateway",
          "All Cities/Dubai/Reem",
          "All Cities/Dubai/Remraam",
          "All Cities/Dubai/Rukan",
          "All Cities/Abu Dhabi/Saadiyat Island",
          "All Cities/Dubai/Serena",
          "All Cities/Sharjah/Sharjah Garden City",
          "All Cities/Sharjah/Sharjah Sustainable City",
          "All Cities/Fujairah/Sharm",
          "All Cities/Ajman/Sheikh Maktoum Bin Rashid Street",
          "All Cities/Dubai/The Hills",
          "All Cities/Dubai/The Lakes",
          "All Cities/Abu Dhabi/The Marina",
          "All Cities/Dubai/The Oasis by Emaar",
          "All Cities/Dubai/The Springs",
          "All Cities/Dubai/The Valley",
          "All Cities/Dubai/The Views",
          "All Cities/Dubai/The Villa",
          "All Cities/Dubai/The World Islands",
          "All Cities/Dubai/Tilal Al Ghaf",
          "All Cities/Sharjah/Tilal City",
          "All Cities/Dubai/Town Square",
          "All Cities/Umm Al Quwain/Umm Al Quwain Marina",
          "All Cities/Dubai/Umm Al Sheif",
          "All Cities/Dubai/Umm Suqeim",
          "All Cities/Dubai/Wadi Al Safa 2",
          "All Cities/Dubai/Wasl Gate",
          "All Cities/Dubai/World Trade Center",
          "All Cities/Abu Dhabi/Yas Island",
          "All Cities/Ras Al Khaimah/Yasmin Village",
          "All Cities/Dubai/Zabeel",
          "All Cities/Abu Dhabi",
          "All Cities/Ajman",
          "All Cities/Al Ain",
          "All Cities/Dubai",
          "All Cities/Fujairah",
          "All Cities/Ras Al Khaimah",
          "All Cities/Sharjah",
          "All Cities/Umm Al Quwain",
          "All Cities"
         ],
         "labels": [
          "Ajman Corniche Road",
          "Ajman Downtown",
          "Al Alia",
          "Al Ameera Village",
          "Al Amerah",
          "Al Badie",
          "Al Bahia",
          "Al Barari",
          "Al Barsha",
          "Al Bustan",
          "Al Dhahir",
          "Al Dhait",
          "Al Faqa'a",
          "Al Furjan",
          "Al Ghadeer",
          "Al Hamidiya",
          "Al Hamra Village",
          "Al Hamriyah",
          "Al Heerah",
          "Al Helio",
          "Al Jaddaf",
          "Al Jubail Island",
          "Al Khan",
          "Al Kifaf",
          "Al Mairid",
          "Al Majaz",
          "Al Mamzar - Sharjah",
          "Al Maqtaa",
          "Al Marjan Island",
          "Al Maryah Island",
          "Al Mowaihat",
          "Al Muhaisnah",
          "Al Mushrif",
          "Al Nahda",
          "Al Nakheel",
          "Al Nuaimiya",
          "Al Nujoom Islands",
          "Al Qasimia",
          "Al Quoz",
          "Al Qurm",
          "Al Qusaidat",
          "Al Raha Beach",
          "Al Raha Gardens",
          "Al Raha Golf Gardens",
          "Al Rahmaniya",
          "Al Rawda",
          "Al Reef",
          "Al Reem Island",
          "Al Riqqa",
          "Al Rowdat Suburb",
          "Al Safa",
          "Al Samha",
          "Al Satwa",
          "Al Sawan",
          "Al Shamkha",
          "Al Sufouh",
          "Al Surra",
          "Al Tai",
          "Al Tallah 2",
          "Al Twar",
          "Al Warqa'a",
          "Al Warsan",
          "Al Wasl",
          "Al Yasmeen",
          "Al Yelayiss 1",
          "Al Zahya",
          "Al Zorah",
          "Al Zubair",
          "Aljada",
          "Arabian Ranches",
          "Arabian Ranches 2",
          "Arabian Ranches 3",
          "Arjan",
          "Barsha Heights (Tecom)",
          "Bluewaters",
          "Business Bay",
          "City Walk",
          "Culture Village",
          "DAMAC Hills",
          "DIFC",
          "Damac Hills 2",
          "Damac Lagoons",
          "Deira",
          "Discovery Gardens",
          "Downtown Dubai",
          "Downtown Jebel Ali",
          "Dubai Creek Harbour (The Lagoons)",
          "Dubai Design District",
          "Dubai Festival City",
          "Dubai Harbour",
          "Dubai Healthcare City",
          "Dubai Hills Estate",
          "Dubai Internet City",
          "Dubai Investment Park (DIP)",
          "Dubai Land",
          "Dubai Marina",
          "Dubai Media City",
          "Dubai Production City (IMPZ)",
          "Dubai Residence Complex",
          "Dubai Science Park",
          "Dubai Silicon Oasis",
          "Dubai South (Dubai World Central)",
          "Dubai Sports City",
          "Dubai Studio City",
          "Emirates City",
          "Emirates Hills 2",
          "Expo City",
          "Falcon City of Wonders",
          "Garden City",
          "Ghantoot",
          "Golf City",
          "Grand Mosque District",
          "Green Community",
          "Greens",
          "Hayyan",
          "International City",
          "Jebel Ali",
          "Jumeirah",
          "Jumeirah Beach Residence",
          "Jumeirah Golf Estates",
          "Jumeirah Heights",
          "Jumeirah Islands",
          "Jumeirah Lake Towers",
          "Jumeirah Park",
          "Jumeirah Village Circle",
          "Jumeirah Village Triangle",
          "Khalifa City",
          "Khor Fakkan",
          "Living Legends",
          "Majan",
          "Manama",
          "Maritime City",
          "Maryam Island",
          "Masdar City",
          "Masfoot",
          "Meadows",
          "Meydan",
          "Mina Al Arab",
          "Mina Rashid",
          "Mirdif",
          "Mohammed Bin Rashid City",
          "Motor City",
          "Mudon",
          "Muwaileh",
          "Muwaileh Commercial",
          "Nad Al Sheba",
          "Nareel Island",
          "Old Town",
          "Palm Jebel Ali",
          "Palm Jumeirah",
          "Ramhan Island",
          "Ras Al Khaimah Waterfront",
          "Ras Al Khor",
          "Ras al Khaimah Gateway",
          "Reem",
          "Remraam",
          "Rukan",
          "Saadiyat Island",
          "Serena",
          "Sharjah Garden City",
          "Sharjah Sustainable City",
          "Sharm",
          "Sheikh Maktoum Bin Rashid Street",
          "The Hills",
          "The Lakes",
          "The Marina",
          "The Oasis by Emaar",
          "The Springs",
          "The Valley",
          "The Views",
          "The Villa",
          "The World Islands",
          "Tilal Al Ghaf",
          "Tilal City",
          "Town Square",
          "Umm Al Quwain Marina",
          "Umm Al Sheif",
          "Umm Suqeim",
          "Wadi Al Safa 2",
          "Wasl Gate",
          "World Trade Center",
          "Yas Island",
          "Yasmin Village",
          "Zabeel",
          "Abu Dhabi",
          "Ajman",
          "Al Ain",
          "Dubai",
          "Fujairah",
          "Ras Al Khaimah",
          "Sharjah",
          "Umm Al Quwain",
          "All Cities"
         ],
         "marker": {
          "coloraxis": "coloraxis",
          "colors": [
           1,
           8,
           9,
           2,
           28,
           5,
           4,
           16,
           12,
           3,
           1,
           1,
           1,
           122,
           4,
           1,
           50,
           31,
           8,
           11,
           15,
           12,
           3,
           13,
           1,
           3,
           25,
           1,
           67,
           4,
           10,
           7,
           3,
           1,
           9,
           4,
           2,
           1,
           2,
           3,
           1,
           7,
           1,
           1,
           1,
           2,
           19,
           69,
           1,
           4,
           1,
           1,
           3,
           2,
           24,
           11,
           1,
           1,
           1,
           1,
           1,
           7,
           17,
           33,
           1,
           35,
           5,
           1,
           40,
           28,
           11,
           64,
           106,
           4,
           8,
           180,
           32,
           14,
           95,
           28,
           80,
           77,
           33,
           27,
           240,
           3,
           117,
           6,
           1,
           97,
           8,
           154,
           3,
           69,
           116,
           187,
           3,
           38,
           39,
           10,
           13,
           87,
           76,
           11,
           3,
           3,
           6,
           2,
           1,
           6,
           3,
           1,
           7,
           17,
           40,
           8,
           37,
           51,
           63,
           49,
           2,
           11,
           108,
           24,
           211,
           50,
           17,
           2,
           9,
           7,
           2,
           12,
           7,
           12,
           1,
           6,
           107,
           66,
           11,
           4,
           208,
           24,
           26,
           17,
           17,
           20,
           1,
           11,
           14,
           125,
           3,
           1,
           1,
           1,
           15,
           23,
           19,
           58,
           5,
           3,
           15,
           2,
           2,
           3,
           5,
           1,
           15,
           28,
           68,
           8,
           15,
           1,
           65,
           40,
           73,
           10,
           3,
           37,
           5,
           9,
           1,
           113,
           1,
           23,
           62.49030470914128,
           21.214285714285715,
           1,
           107.82641700404858,
           2,
           57.73737373737374,
           27.74436090225564,
           9.181818181818182,
           94.95687222893994
          ]
         },
         "name": "",
         "parents": [
          "All Cities/Ajman",
          "All Cities/Ajman",
          "All Cities/Ajman",
          "All Cities/Ajman",
          "All Cities/Ajman",
          "All Cities/Sharjah",
          "All Cities/Ajman",
          "All Cities/Dubai",
          "All Cities/Dubai",
          "All Cities/Ajman",
          "All Cities/Al Ain",
          "All Cities/Ras Al Khaimah",
          "All Cities/Al Ain",
          "All Cities/Dubai",
          "All Cities/Abu Dhabi",
          "All Cities/Ajman",
          "All Cities/Ras Al Khaimah",
          "All Cities/Sharjah",
          "All Cities/Sharjah",
          "All Cities/Ajman",
          "All Cities/Dubai",
          "All Cities/Abu Dhabi",
          "All Cities/Sharjah",
          "All Cities/Dubai",
          "All Cities/Ras Al Khaimah",
          "All Cities/Sharjah",
          "All Cities/Sharjah",
          "All Cities/Abu Dhabi",
          "All Cities/Ras Al Khaimah",
          "All Cities/Abu Dhabi",
          "All Cities/Ajman",
          "All Cities/Dubai",
          "All Cities/Abu Dhabi",
          "All Cities/Sharjah",
          "All Cities/Ras Al Khaimah",
          "All Cities/Ajman",
          "All Cities/Sharjah",
          "All Cities/Sharjah",
          "All Cities/Dubai",
          "All Cities/Abu Dhabi",
          "All Cities/Ras Al Khaimah",
          "All Cities/Abu Dhabi",
          "All Cities/Abu Dhabi",
          "All Cities/Abu Dhabi",
          "All Cities/Sharjah",
          "All Cities/Ajman",
          "All Cities/Abu Dhabi",
          "All Cities/Abu Dhabi",
          "All Cities/Sharjah",
          "All Cities/Sharjah",
          "All Cities/Dubai",
          "All Cities/Abu Dhabi",
          "All Cities/Dubai",
          "All Cities/Ajman",
          "All Cities/Abu Dhabi",
          "All Cities/Dubai",
          "All Cities/Umm Al Quwain",
          "All Cities/Sharjah",
          "All Cities/Ajman",
          "All Cities/Dubai",
          "All Cities/Dubai",
          "All Cities/Dubai",
          "All Cities/Dubai",
          "All Cities/Ajman",
          "All Cities/Dubai",
          "All Cities/Ajman",
          "All Cities/Ajman",
          "All Cities/Sharjah",
          "All Cities/Sharjah",
          "All Cities/Dubai",
          "All Cities/Dubai",
          "All Cities/Dubai",
          "All Cities/Dubai",
          "All Cities/Dubai",
          "All Cities/Dubai",
          "All Cities/Dubai",
          "All Cities/Dubai",
          "All Cities/Dubai",
          "All Cities/Dubai",
          "All Cities/Dubai",
          "All Cities/Dubai",
          "All Cities/Dubai",
          "All Cities/Dubai",
          "All Cities/Dubai",
          "All Cities/Dubai",
          "All Cities/Dubai",
          "All Cities/Dubai",
          "All Cities/Dubai",
          "All Cities/Dubai",
          "All Cities/Dubai",
          "All Cities/Dubai",
          "All Cities/Dubai",
          "All Cities/Dubai",
          "All Cities/Dubai",
          "All Cities/Dubai",
          "All Cities/Dubai",
          "All Cities/Dubai",
          "All Cities/Dubai",
          "All Cities/Dubai",
          "All Cities/Dubai",
          "All Cities/Dubai",
          "All Cities/Dubai",
          "All Cities/Dubai",
          "All Cities/Dubai",
          "All Cities/Ajman",
          "All Cities/Dubai",
          "All Cities/Dubai",
          "All Cities/Dubai",
          "All Cities/Ajman",
          "All Cities/Abu Dhabi",
          "All Cities/Dubai",
          "All Cities/Abu Dhabi",
          "All Cities/Dubai",
          "All Cities/Dubai",
          "All Cities/Sharjah",
          "All Cities/Dubai",
          "All Cities/Dubai",
          "All Cities/Dubai",
          "All Cities/Dubai",
          "All Cities/Dubai",
          "All Cities/Dubai",
          "All Cities/Dubai",
          "All Cities/Dubai",
          "All Cities/Dubai",
          "All Cities/Dubai",
          "All Cities/Dubai",
          "All Cities/Abu Dhabi",
          "All Cities/Fujairah",
          "All Cities/Dubai",
          "All Cities/Dubai",
          "All Cities/Ajman",
          "All Cities/Dubai",
          "All Cities/Sharjah",
          "All Cities/Abu Dhabi",
          "All Cities/Ajman",
          "All Cities/Dubai",
          "All Cities/Dubai",
          "All Cities/Ras Al Khaimah",
          "All Cities/Dubai",
          "All Cities/Dubai",
          "All Cities/Dubai",
          "All Cities/Dubai",
          "All Cities/Dubai",
          "All Cities/Sharjah",
          "All Cities/Sharjah",
          "All Cities/Dubai",
          "All Cities/Abu Dhabi",
          "All Cities/Dubai",
          "All Cities/Dubai",
          "All Cities/Dubai",
          "All Cities/Abu Dhabi",
          "All Cities/Ras Al Khaimah",
          "All Cities/Dubai",
          "All Cities/Ras Al Khaimah",
          "All Cities/Dubai",
          "All Cities/Dubai",
          "All Cities/Dubai",
          "All Cities/Abu Dhabi",
          "All Cities/Dubai",
          "All Cities/Sharjah",
          "All Cities/Sharjah",
          "All Cities/Fujairah",
          "All Cities/Ajman",
          "All Cities/Dubai",
          "All Cities/Dubai",
          "All Cities/Abu Dhabi",
          "All Cities/Dubai",
          "All Cities/Dubai",
          "All Cities/Dubai",
          "All Cities/Dubai",
          "All Cities/Dubai",
          "All Cities/Dubai",
          "All Cities/Dubai",
          "All Cities/Sharjah",
          "All Cities/Dubai",
          "All Cities/Umm Al Quwain",
          "All Cities/Dubai",
          "All Cities/Dubai",
          "All Cities/Dubai",
          "All Cities/Dubai",
          "All Cities/Dubai",
          "All Cities/Abu Dhabi",
          "All Cities/Ras Al Khaimah",
          "All Cities/Dubai",
          "All Cities",
          "All Cities",
          "All Cities",
          "All Cities",
          "All Cities",
          "All Cities",
          "All Cities",
          "All Cities",
          ""
         ],
         "type": "treemap",
         "values": [
          1,
          8,
          9,
          2,
          28,
          5,
          4,
          16,
          12,
          3,
          1,
          1,
          1,
          122,
          4,
          1,
          50,
          31,
          8,
          11,
          15,
          12,
          3,
          13,
          1,
          3,
          25,
          1,
          67,
          4,
          10,
          7,
          3,
          1,
          9,
          4,
          2,
          1,
          2,
          3,
          1,
          7,
          1,
          1,
          1,
          2,
          19,
          69,
          1,
          4,
          1,
          1,
          3,
          2,
          24,
          11,
          1,
          1,
          1,
          1,
          1,
          7,
          17,
          33,
          1,
          35,
          5,
          1,
          40,
          28,
          11,
          64,
          106,
          4,
          8,
          180,
          32,
          14,
          95,
          28,
          80,
          77,
          33,
          27,
          240,
          3,
          117,
          6,
          1,
          97,
          8,
          154,
          3,
          69,
          116,
          187,
          3,
          38,
          39,
          10,
          13,
          87,
          76,
          11,
          3,
          3,
          6,
          2,
          1,
          6,
          3,
          1,
          7,
          17,
          40,
          8,
          37,
          51,
          63,
          49,
          2,
          11,
          108,
          24,
          211,
          50,
          17,
          2,
          9,
          7,
          2,
          12,
          7,
          12,
          1,
          6,
          107,
          66,
          11,
          4,
          208,
          24,
          26,
          17,
          17,
          20,
          1,
          11,
          14,
          125,
          3,
          1,
          1,
          1,
          15,
          23,
          19,
          58,
          5,
          3,
          15,
          2,
          2,
          3,
          5,
          1,
          15,
          28,
          68,
          8,
          15,
          1,
          65,
          40,
          73,
          10,
          3,
          37,
          5,
          9,
          1,
          113,
          1,
          23,
          361,
          168,
          2,
          3952,
          4,
          198,
          266,
          11,
          4962
         ]
        }
       ],
       "layout": {
        "coloraxis": {
         "colorbar": {
          "title": {
           "text": "count"
          }
         },
         "colorscale": [
          [
           0,
           "#440154"
          ],
          [
           0.1111111111111111,
           "#482878"
          ],
          [
           0.2222222222222222,
           "#3e4989"
          ],
          [
           0.3333333333333333,
           "#31688e"
          ],
          [
           0.4444444444444444,
           "#26828e"
          ],
          [
           0.5555555555555556,
           "#1f9e89"
          ],
          [
           0.6666666666666666,
           "#35b779"
          ],
          [
           0.7777777777777778,
           "#6ece58"
          ],
          [
           0.8888888888888888,
           "#b5de2b"
          ],
          [
           1,
           "#fde725"
          ]
         ]
        },
        "legend": {
         "tracegroupgap": 0
        },
        "template": {
         "data": {
          "bar": [
           {
            "error_x": {
             "color": "#2a3f5f"
            },
            "error_y": {
             "color": "#2a3f5f"
            },
            "marker": {
             "line": {
              "color": "#E5ECF6",
              "width": 0.5
             },
             "pattern": {
              "fillmode": "overlay",
              "size": 10,
              "solidity": 0.2
             }
            },
            "type": "bar"
           }
          ],
          "barpolar": [
           {
            "marker": {
             "line": {
              "color": "#E5ECF6",
              "width": 0.5
             },
             "pattern": {
              "fillmode": "overlay",
              "size": 10,
              "solidity": 0.2
             }
            },
            "type": "barpolar"
           }
          ],
          "carpet": [
           {
            "aaxis": {
             "endlinecolor": "#2a3f5f",
             "gridcolor": "white",
             "linecolor": "white",
             "minorgridcolor": "white",
             "startlinecolor": "#2a3f5f"
            },
            "baxis": {
             "endlinecolor": "#2a3f5f",
             "gridcolor": "white",
             "linecolor": "white",
             "minorgridcolor": "white",
             "startlinecolor": "#2a3f5f"
            },
            "type": "carpet"
           }
          ],
          "choropleth": [
           {
            "colorbar": {
             "outlinewidth": 0,
             "ticks": ""
            },
            "type": "choropleth"
           }
          ],
          "contour": [
           {
            "colorbar": {
             "outlinewidth": 0,
             "ticks": ""
            },
            "colorscale": [
             [
              0,
              "#0d0887"
             ],
             [
              0.1111111111111111,
              "#46039f"
             ],
             [
              0.2222222222222222,
              "#7201a8"
             ],
             [
              0.3333333333333333,
              "#9c179e"
             ],
             [
              0.4444444444444444,
              "#bd3786"
             ],
             [
              0.5555555555555556,
              "#d8576b"
             ],
             [
              0.6666666666666666,
              "#ed7953"
             ],
             [
              0.7777777777777778,
              "#fb9f3a"
             ],
             [
              0.8888888888888888,
              "#fdca26"
             ],
             [
              1,
              "#f0f921"
             ]
            ],
            "type": "contour"
           }
          ],
          "contourcarpet": [
           {
            "colorbar": {
             "outlinewidth": 0,
             "ticks": ""
            },
            "type": "contourcarpet"
           }
          ],
          "heatmap": [
           {
            "colorbar": {
             "outlinewidth": 0,
             "ticks": ""
            },
            "colorscale": [
             [
              0,
              "#0d0887"
             ],
             [
              0.1111111111111111,
              "#46039f"
             ],
             [
              0.2222222222222222,
              "#7201a8"
             ],
             [
              0.3333333333333333,
              "#9c179e"
             ],
             [
              0.4444444444444444,
              "#bd3786"
             ],
             [
              0.5555555555555556,
              "#d8576b"
             ],
             [
              0.6666666666666666,
              "#ed7953"
             ],
             [
              0.7777777777777778,
              "#fb9f3a"
             ],
             [
              0.8888888888888888,
              "#fdca26"
             ],
             [
              1,
              "#f0f921"
             ]
            ],
            "type": "heatmap"
           }
          ],
          "heatmapgl": [
           {
            "colorbar": {
             "outlinewidth": 0,
             "ticks": ""
            },
            "colorscale": [
             [
              0,
              "#0d0887"
             ],
             [
              0.1111111111111111,
              "#46039f"
             ],
             [
              0.2222222222222222,
              "#7201a8"
             ],
             [
              0.3333333333333333,
              "#9c179e"
             ],
             [
              0.4444444444444444,
              "#bd3786"
             ],
             [
              0.5555555555555556,
              "#d8576b"
             ],
             [
              0.6666666666666666,
              "#ed7953"
             ],
             [
              0.7777777777777778,
              "#fb9f3a"
             ],
             [
              0.8888888888888888,
              "#fdca26"
             ],
             [
              1,
              "#f0f921"
             ]
            ],
            "type": "heatmapgl"
           }
          ],
          "histogram": [
           {
            "marker": {
             "pattern": {
              "fillmode": "overlay",
              "size": 10,
              "solidity": 0.2
             }
            },
            "type": "histogram"
           }
          ],
          "histogram2d": [
           {
            "colorbar": {
             "outlinewidth": 0,
             "ticks": ""
            },
            "colorscale": [
             [
              0,
              "#0d0887"
             ],
             [
              0.1111111111111111,
              "#46039f"
             ],
             [
              0.2222222222222222,
              "#7201a8"
             ],
             [
              0.3333333333333333,
              "#9c179e"
             ],
             [
              0.4444444444444444,
              "#bd3786"
             ],
             [
              0.5555555555555556,
              "#d8576b"
             ],
             [
              0.6666666666666666,
              "#ed7953"
             ],
             [
              0.7777777777777778,
              "#fb9f3a"
             ],
             [
              0.8888888888888888,
              "#fdca26"
             ],
             [
              1,
              "#f0f921"
             ]
            ],
            "type": "histogram2d"
           }
          ],
          "histogram2dcontour": [
           {
            "colorbar": {
             "outlinewidth": 0,
             "ticks": ""
            },
            "colorscale": [
             [
              0,
              "#0d0887"
             ],
             [
              0.1111111111111111,
              "#46039f"
             ],
             [
              0.2222222222222222,
              "#7201a8"
             ],
             [
              0.3333333333333333,
              "#9c179e"
             ],
             [
              0.4444444444444444,
              "#bd3786"
             ],
             [
              0.5555555555555556,
              "#d8576b"
             ],
             [
              0.6666666666666666,
              "#ed7953"
             ],
             [
              0.7777777777777778,
              "#fb9f3a"
             ],
             [
              0.8888888888888888,
              "#fdca26"
             ],
             [
              1,
              "#f0f921"
             ]
            ],
            "type": "histogram2dcontour"
           }
          ],
          "mesh3d": [
           {
            "colorbar": {
             "outlinewidth": 0,
             "ticks": ""
            },
            "type": "mesh3d"
           }
          ],
          "parcoords": [
           {
            "line": {
             "colorbar": {
              "outlinewidth": 0,
              "ticks": ""
             }
            },
            "type": "parcoords"
           }
          ],
          "pie": [
           {
            "automargin": true,
            "type": "pie"
           }
          ],
          "scatter": [
           {
            "fillpattern": {
             "fillmode": "overlay",
             "size": 10,
             "solidity": 0.2
            },
            "type": "scatter"
           }
          ],
          "scatter3d": [
           {
            "line": {
             "colorbar": {
              "outlinewidth": 0,
              "ticks": ""
             }
            },
            "marker": {
             "colorbar": {
              "outlinewidth": 0,
              "ticks": ""
             }
            },
            "type": "scatter3d"
           }
          ],
          "scattercarpet": [
           {
            "marker": {
             "colorbar": {
              "outlinewidth": 0,
              "ticks": ""
             }
            },
            "type": "scattercarpet"
           }
          ],
          "scattergeo": [
           {
            "marker": {
             "colorbar": {
              "outlinewidth": 0,
              "ticks": ""
             }
            },
            "type": "scattergeo"
           }
          ],
          "scattergl": [
           {
            "marker": {
             "colorbar": {
              "outlinewidth": 0,
              "ticks": ""
             }
            },
            "type": "scattergl"
           }
          ],
          "scattermapbox": [
           {
            "marker": {
             "colorbar": {
              "outlinewidth": 0,
              "ticks": ""
             }
            },
            "type": "scattermapbox"
           }
          ],
          "scatterpolar": [
           {
            "marker": {
             "colorbar": {
              "outlinewidth": 0,
              "ticks": ""
             }
            },
            "type": "scatterpolar"
           }
          ],
          "scatterpolargl": [
           {
            "marker": {
             "colorbar": {
              "outlinewidth": 0,
              "ticks": ""
             }
            },
            "type": "scatterpolargl"
           }
          ],
          "scatterternary": [
           {
            "marker": {
             "colorbar": {
              "outlinewidth": 0,
              "ticks": ""
             }
            },
            "type": "scatterternary"
           }
          ],
          "surface": [
           {
            "colorbar": {
             "outlinewidth": 0,
             "ticks": ""
            },
            "colorscale": [
             [
              0,
              "#0d0887"
             ],
             [
              0.1111111111111111,
              "#46039f"
             ],
             [
              0.2222222222222222,
              "#7201a8"
             ],
             [
              0.3333333333333333,
              "#9c179e"
             ],
             [
              0.4444444444444444,
              "#bd3786"
             ],
             [
              0.5555555555555556,
              "#d8576b"
             ],
             [
              0.6666666666666666,
              "#ed7953"
             ],
             [
              0.7777777777777778,
              "#fb9f3a"
             ],
             [
              0.8888888888888888,
              "#fdca26"
             ],
             [
              1,
              "#f0f921"
             ]
            ],
            "type": "surface"
           }
          ],
          "table": [
           {
            "cells": {
             "fill": {
              "color": "#EBF0F8"
             },
             "line": {
              "color": "white"
             }
            },
            "header": {
             "fill": {
              "color": "#C8D4E3"
             },
             "line": {
              "color": "white"
             }
            },
            "type": "table"
           }
          ]
         },
         "layout": {
          "annotationdefaults": {
           "arrowcolor": "#2a3f5f",
           "arrowhead": 0,
           "arrowwidth": 1
          },
          "autotypenumbers": "strict",
          "coloraxis": {
           "colorbar": {
            "outlinewidth": 0,
            "ticks": ""
           }
          },
          "colorscale": {
           "diverging": [
            [
             0,
             "#8e0152"
            ],
            [
             0.1,
             "#c51b7d"
            ],
            [
             0.2,
             "#de77ae"
            ],
            [
             0.3,
             "#f1b6da"
            ],
            [
             0.4,
             "#fde0ef"
            ],
            [
             0.5,
             "#f7f7f7"
            ],
            [
             0.6,
             "#e6f5d0"
            ],
            [
             0.7,
             "#b8e186"
            ],
            [
             0.8,
             "#7fbc41"
            ],
            [
             0.9,
             "#4d9221"
            ],
            [
             1,
             "#276419"
            ]
           ],
           "sequential": [
            [
             0,
             "#0d0887"
            ],
            [
             0.1111111111111111,
             "#46039f"
            ],
            [
             0.2222222222222222,
             "#7201a8"
            ],
            [
             0.3333333333333333,
             "#9c179e"
            ],
            [
             0.4444444444444444,
             "#bd3786"
            ],
            [
             0.5555555555555556,
             "#d8576b"
            ],
            [
             0.6666666666666666,
             "#ed7953"
            ],
            [
             0.7777777777777778,
             "#fb9f3a"
            ],
            [
             0.8888888888888888,
             "#fdca26"
            ],
            [
             1,
             "#f0f921"
            ]
           ],
           "sequentialminus": [
            [
             0,
             "#0d0887"
            ],
            [
             0.1111111111111111,
             "#46039f"
            ],
            [
             0.2222222222222222,
             "#7201a8"
            ],
            [
             0.3333333333333333,
             "#9c179e"
            ],
            [
             0.4444444444444444,
             "#bd3786"
            ],
            [
             0.5555555555555556,
             "#d8576b"
            ],
            [
             0.6666666666666666,
             "#ed7953"
            ],
            [
             0.7777777777777778,
             "#fb9f3a"
            ],
            [
             0.8888888888888888,
             "#fdca26"
            ],
            [
             1,
             "#f0f921"
            ]
           ]
          },
          "colorway": [
           "#636efa",
           "#EF553B",
           "#00cc96",
           "#ab63fa",
           "#FFA15A",
           "#19d3f3",
           "#FF6692",
           "#B6E880",
           "#FF97FF",
           "#FECB52"
          ],
          "font": {
           "color": "#2a3f5f"
          },
          "geo": {
           "bgcolor": "white",
           "lakecolor": "white",
           "landcolor": "#E5ECF6",
           "showlakes": true,
           "showland": true,
           "subunitcolor": "white"
          },
          "hoverlabel": {
           "align": "left"
          },
          "hovermode": "closest",
          "mapbox": {
           "style": "light"
          },
          "paper_bgcolor": "white",
          "plot_bgcolor": "#E5ECF6",
          "polar": {
           "angularaxis": {
            "gridcolor": "white",
            "linecolor": "white",
            "ticks": ""
           },
           "bgcolor": "#E5ECF6",
           "radialaxis": {
            "gridcolor": "white",
            "linecolor": "white",
            "ticks": ""
           }
          },
          "scene": {
           "xaxis": {
            "backgroundcolor": "#E5ECF6",
            "gridcolor": "white",
            "gridwidth": 2,
            "linecolor": "white",
            "showbackground": true,
            "ticks": "",
            "zerolinecolor": "white"
           },
           "yaxis": {
            "backgroundcolor": "#E5ECF6",
            "gridcolor": "white",
            "gridwidth": 2,
            "linecolor": "white",
            "showbackground": true,
            "ticks": "",
            "zerolinecolor": "white"
           },
           "zaxis": {
            "backgroundcolor": "#E5ECF6",
            "gridcolor": "white",
            "gridwidth": 2,
            "linecolor": "white",
            "showbackground": true,
            "ticks": "",
            "zerolinecolor": "white"
           }
          },
          "shapedefaults": {
           "line": {
            "color": "#2a3f5f"
           }
          },
          "ternary": {
           "aaxis": {
            "gridcolor": "white",
            "linecolor": "white",
            "ticks": ""
           },
           "baxis": {
            "gridcolor": "white",
            "linecolor": "white",
            "ticks": ""
           },
           "bgcolor": "#E5ECF6",
           "caxis": {
            "gridcolor": "white",
            "linecolor": "white",
            "ticks": ""
           }
          },
          "title": {
           "x": 0.05
          },
          "xaxis": {
           "automargin": true,
           "gridcolor": "white",
           "linecolor": "white",
           "ticks": "",
           "title": {
            "standoff": 15
           },
           "zerolinecolor": "white",
           "zerolinewidth": 2
          },
          "yaxis": {
           "automargin": true,
           "gridcolor": "white",
           "linecolor": "white",
           "ticks": "",
           "title": {
            "standoff": 15
           },
           "zerolinecolor": "white",
           "zerolinewidth": 2
          }
         }
        },
        "title": {
         "font": {
          "color": "black",
          "family": "Arial",
          "size": 24
         },
         "text": "Количество объектов недвижимости по городам"
        }
       }
      },
      "text/html": [
       "<div>                            <div id=\"9ef6bcec-622b-4c26-a2f1-f72ce2ef5335\" class=\"plotly-graph-div\" style=\"height:525px; width:100%;\"></div>            <script type=\"text/javascript\">                require([\"plotly\"], function(Plotly) {                    window.PLOTLYENV=window.PLOTLYENV || {};                                    if (document.getElementById(\"9ef6bcec-622b-4c26-a2f1-f72ce2ef5335\")) {                    Plotly.newPlot(                        \"9ef6bcec-622b-4c26-a2f1-f72ce2ef5335\",                        [{\"branchvalues\":\"total\",\"customdata\":[[1.0],[8.0],[9.0],[2.0],[28.0],[5.0],[4.0],[16.0],[12.0],[3.0],[1.0],[1.0],[1.0],[122.0],[4.0],[1.0],[50.0],[31.0],[8.0],[11.0],[15.0],[12.0],[3.0],[13.0],[1.0],[3.0],[25.0],[1.0],[67.0],[4.0],[10.0],[7.0],[3.0],[1.0],[9.0],[4.0],[2.0],[1.0],[2.0],[3.0],[1.0],[7.0],[1.0],[1.0],[1.0],[2.0],[19.0],[69.0],[1.0],[4.0],[1.0],[1.0],[3.0],[2.0],[24.0],[11.0],[1.0],[1.0],[1.0],[1.0],[1.0],[7.0],[17.0],[33.0],[1.0],[35.0],[5.0],[1.0],[40.0],[28.0],[11.0],[64.0],[106.0],[4.0],[8.0],[180.0],[32.0],[14.0],[95.0],[28.0],[80.0],[77.0],[33.0],[27.0],[240.0],[3.0],[117.0],[6.0],[1.0],[97.0],[8.0],[154.0],[3.0],[69.0],[116.0],[187.0],[3.0],[38.0],[39.0],[10.0],[13.0],[87.0],[76.0],[11.0],[3.0],[3.0],[6.0],[2.0],[1.0],[6.0],[3.0],[1.0],[7.0],[17.0],[40.0],[8.0],[37.0],[51.0],[63.0],[49.0],[2.0],[11.0],[108.0],[24.0],[211.0],[50.0],[17.0],[2.0],[9.0],[7.0],[2.0],[12.0],[7.0],[12.0],[1.0],[6.0],[107.0],[66.0],[11.0],[4.0],[208.0],[24.0],[26.0],[17.0],[17.0],[20.0],[1.0],[11.0],[14.0],[125.0],[3.0],[1.0],[1.0],[1.0],[15.0],[23.0],[19.0],[58.0],[5.0],[3.0],[15.0],[2.0],[2.0],[3.0],[5.0],[1.0],[15.0],[28.0],[68.0],[8.0],[15.0],[1.0],[65.0],[40.0],[73.0],[10.0],[3.0],[37.0],[5.0],[9.0],[1.0],[113.0],[1.0],[23.0],[62.49030470914128],[21.214285714285715],[1.0],[107.82641700404858],[2.0],[57.73737373737374],[27.74436090225564],[9.181818181818182],[94.95687222893994]],\"domain\":{\"x\":[0.0,1.0],\"y\":[0.0,1.0]},\"hovertemplate\":\"labels=%{label}<br>count_sum=%{value}<br>parent=%{parent}<br>id=%{id}<br>count=%{color}<extra></extra>\",\"ids\":[\"All Cities/Ajman/Ajman Corniche Road\",\"All Cities/Ajman/Ajman Downtown\",\"All Cities/Ajman/Al Alia\",\"All Cities/Ajman/Al Ameera Village\",\"All Cities/Ajman/Al Amerah\",\"All Cities/Sharjah/Al Badie\",\"All Cities/Ajman/Al Bahia\",\"All Cities/Dubai/Al Barari\",\"All Cities/Dubai/Al Barsha\",\"All Cities/Ajman/Al Bustan\",\"All Cities/Al Ain/Al Dhahir\",\"All Cities/Ras Al Khaimah/Al Dhait\",\"All Cities/Al Ain/Al Faqa'a\",\"All Cities/Dubai/Al Furjan\",\"All Cities/Abu Dhabi/Al Ghadeer\",\"All Cities/Ajman/Al Hamidiya\",\"All Cities/Ras Al Khaimah/Al Hamra Village\",\"All Cities/Sharjah/Al Hamriyah\",\"All Cities/Sharjah/Al Heerah\",\"All Cities/Ajman/Al Helio\",\"All Cities/Dubai/Al Jaddaf\",\"All Cities/Abu Dhabi/Al Jubail Island\",\"All Cities/Sharjah/Al Khan\",\"All Cities/Dubai/Al Kifaf\",\"All Cities/Ras Al Khaimah/Al Mairid\",\"All Cities/Sharjah/Al Majaz\",\"All Cities/Sharjah/Al Mamzar - Sharjah\",\"All Cities/Abu Dhabi/Al Maqtaa\",\"All Cities/Ras Al Khaimah/Al Marjan Island\",\"All Cities/Abu Dhabi/Al Maryah Island\",\"All Cities/Ajman/Al Mowaihat\",\"All Cities/Dubai/Al Muhaisnah\",\"All Cities/Abu Dhabi/Al Mushrif\",\"All Cities/Sharjah/Al Nahda\",\"All Cities/Ras Al Khaimah/Al Nakheel\",\"All Cities/Ajman/Al Nuaimiya\",\"All Cities/Sharjah/Al Nujoom Islands\",\"All Cities/Sharjah/Al Qasimia\",\"All Cities/Dubai/Al Quoz\",\"All Cities/Abu Dhabi/Al Qurm\",\"All Cities/Ras Al Khaimah/Al Qusaidat\",\"All Cities/Abu Dhabi/Al Raha Beach\",\"All Cities/Abu Dhabi/Al Raha Gardens\",\"All Cities/Abu Dhabi/Al Raha Golf Gardens\",\"All Cities/Sharjah/Al Rahmaniya\",\"All Cities/Ajman/Al Rawda\",\"All Cities/Abu Dhabi/Al Reef\",\"All Cities/Abu Dhabi/Al Reem Island\",\"All Cities/Sharjah/Al Riqqa\",\"All Cities/Sharjah/Al Rowdat Suburb\",\"All Cities/Dubai/Al Safa\",\"All Cities/Abu Dhabi/Al Samha\",\"All Cities/Dubai/Al Satwa\",\"All Cities/Ajman/Al Sawan\",\"All Cities/Abu Dhabi/Al Shamkha\",\"All Cities/Dubai/Al Sufouh\",\"All Cities/Umm Al Quwain/Al Surra\",\"All Cities/Sharjah/Al Tai\",\"All Cities/Ajman/Al Tallah 2\",\"All Cities/Dubai/Al Twar\",\"All Cities/Dubai/Al Warqa'a\",\"All Cities/Dubai/Al Warsan\",\"All Cities/Dubai/Al Wasl\",\"All Cities/Ajman/Al Yasmeen\",\"All Cities/Dubai/Al Yelayiss 1\",\"All Cities/Ajman/Al Zahya\",\"All Cities/Ajman/Al Zorah\",\"All Cities/Sharjah/Al Zubair\",\"All Cities/Sharjah/Aljada\",\"All Cities/Dubai/Arabian Ranches\",\"All Cities/Dubai/Arabian Ranches 2\",\"All Cities/Dubai/Arabian Ranches 3\",\"All Cities/Dubai/Arjan\",\"All Cities/Dubai/Barsha Heights (Tecom)\",\"All Cities/Dubai/Bluewaters\",\"All Cities/Dubai/Business Bay\",\"All Cities/Dubai/City Walk\",\"All Cities/Dubai/Culture Village\",\"All Cities/Dubai/DAMAC Hills\",\"All Cities/Dubai/DIFC\",\"All Cities/Dubai/Damac Hills 2\",\"All Cities/Dubai/Damac Lagoons\",\"All Cities/Dubai/Deira\",\"All Cities/Dubai/Discovery Gardens\",\"All Cities/Dubai/Downtown Dubai\",\"All Cities/Dubai/Downtown Jebel Ali\",\"All Cities/Dubai/Dubai Creek Harbour (The Lagoons)\",\"All Cities/Dubai/Dubai Design District\",\"All Cities/Dubai/Dubai Festival City\",\"All Cities/Dubai/Dubai Harbour\",\"All Cities/Dubai/Dubai Healthcare City\",\"All Cities/Dubai/Dubai Hills Estate\",\"All Cities/Dubai/Dubai Internet City\",\"All Cities/Dubai/Dubai Investment Park (DIP)\",\"All Cities/Dubai/Dubai Land\",\"All Cities/Dubai/Dubai Marina\",\"All Cities/Dubai/Dubai Media City\",\"All Cities/Dubai/Dubai Production City (IMPZ)\",\"All Cities/Dubai/Dubai Residence Complex\",\"All Cities/Dubai/Dubai Science Park\",\"All Cities/Dubai/Dubai Silicon Oasis\",\"All Cities/Dubai/Dubai South (Dubai World Central)\",\"All Cities/Dubai/Dubai Sports City\",\"All Cities/Dubai/Dubai Studio City\",\"All Cities/Ajman/Emirates City\",\"All Cities/Dubai/Emirates Hills 2\",\"All Cities/Dubai/Expo City\",\"All Cities/Dubai/Falcon City of Wonders\",\"All Cities/Ajman/Garden City\",\"All Cities/Abu Dhabi/Ghantoot\",\"All Cities/Dubai/Golf City\",\"All Cities/Abu Dhabi/Grand Mosque District\",\"All Cities/Dubai/Green Community\",\"All Cities/Dubai/Greens\",\"All Cities/Sharjah/Hayyan\",\"All Cities/Dubai/International City\",\"All Cities/Dubai/Jebel Ali\",\"All Cities/Dubai/Jumeirah\",\"All Cities/Dubai/Jumeirah Beach Residence\",\"All Cities/Dubai/Jumeirah Golf Estates\",\"All Cities/Dubai/Jumeirah Heights\",\"All Cities/Dubai/Jumeirah Islands\",\"All Cities/Dubai/Jumeirah Lake Towers\",\"All Cities/Dubai/Jumeirah Park\",\"All Cities/Dubai/Jumeirah Village Circle\",\"All Cities/Dubai/Jumeirah Village Triangle\",\"All Cities/Abu Dhabi/Khalifa City\",\"All Cities/Fujairah/Khor Fakkan\",\"All Cities/Dubai/Living Legends\",\"All Cities/Dubai/Majan\",\"All Cities/Ajman/Manama\",\"All Cities/Dubai/Maritime City\",\"All Cities/Sharjah/Maryam Island\",\"All Cities/Abu Dhabi/Masdar City\",\"All Cities/Ajman/Masfoot\",\"All Cities/Dubai/Meadows\",\"All Cities/Dubai/Meydan\",\"All Cities/Ras Al Khaimah/Mina Al Arab\",\"All Cities/Dubai/Mina Rashid\",\"All Cities/Dubai/Mirdif\",\"All Cities/Dubai/Mohammed Bin Rashid City\",\"All Cities/Dubai/Motor City\",\"All Cities/Dubai/Mudon\",\"All Cities/Sharjah/Muwaileh\",\"All Cities/Sharjah/Muwaileh Commercial\",\"All Cities/Dubai/Nad Al Sheba\",\"All Cities/Abu Dhabi/Nareel Island\",\"All Cities/Dubai/Old Town\",\"All Cities/Dubai/Palm Jebel Ali\",\"All Cities/Dubai/Palm Jumeirah\",\"All Cities/Abu Dhabi/Ramhan Island\",\"All Cities/Ras Al Khaimah/Ras Al Khaimah Waterfront\",\"All Cities/Dubai/Ras Al Khor\",\"All Cities/Ras Al Khaimah/Ras al Khaimah Gateway\",\"All Cities/Dubai/Reem\",\"All Cities/Dubai/Remraam\",\"All Cities/Dubai/Rukan\",\"All Cities/Abu Dhabi/Saadiyat Island\",\"All Cities/Dubai/Serena\",\"All Cities/Sharjah/Sharjah Garden City\",\"All Cities/Sharjah/Sharjah Sustainable City\",\"All Cities/Fujairah/Sharm\",\"All Cities/Ajman/Sheikh Maktoum Bin Rashid Street\",\"All Cities/Dubai/The Hills\",\"All Cities/Dubai/The Lakes\",\"All Cities/Abu Dhabi/The Marina\",\"All Cities/Dubai/The Oasis by Emaar\",\"All Cities/Dubai/The Springs\",\"All Cities/Dubai/The Valley\",\"All Cities/Dubai/The Views\",\"All Cities/Dubai/The Villa\",\"All Cities/Dubai/The World Islands\",\"All Cities/Dubai/Tilal Al Ghaf\",\"All Cities/Sharjah/Tilal City\",\"All Cities/Dubai/Town Square\",\"All Cities/Umm Al Quwain/Umm Al Quwain Marina\",\"All Cities/Dubai/Umm Al Sheif\",\"All Cities/Dubai/Umm Suqeim\",\"All Cities/Dubai/Wadi Al Safa 2\",\"All Cities/Dubai/Wasl Gate\",\"All Cities/Dubai/World Trade Center\",\"All Cities/Abu Dhabi/Yas Island\",\"All Cities/Ras Al Khaimah/Yasmin Village\",\"All Cities/Dubai/Zabeel\",\"All Cities/Abu Dhabi\",\"All Cities/Ajman\",\"All Cities/Al Ain\",\"All Cities/Dubai\",\"All Cities/Fujairah\",\"All Cities/Ras Al Khaimah\",\"All Cities/Sharjah\",\"All Cities/Umm Al Quwain\",\"All Cities\"],\"labels\":[\"Ajman Corniche Road\",\"Ajman Downtown\",\"Al Alia\",\"Al Ameera Village\",\"Al Amerah\",\"Al Badie\",\"Al Bahia\",\"Al Barari\",\"Al Barsha\",\"Al Bustan\",\"Al Dhahir\",\"Al Dhait\",\"Al Faqa'a\",\"Al Furjan\",\"Al Ghadeer\",\"Al Hamidiya\",\"Al Hamra Village\",\"Al Hamriyah\",\"Al Heerah\",\"Al Helio\",\"Al Jaddaf\",\"Al Jubail Island\",\"Al Khan\",\"Al Kifaf\",\"Al Mairid\",\"Al Majaz\",\"Al Mamzar - Sharjah\",\"Al Maqtaa\",\"Al Marjan Island\",\"Al Maryah Island\",\"Al Mowaihat\",\"Al Muhaisnah\",\"Al Mushrif\",\"Al Nahda\",\"Al Nakheel\",\"Al Nuaimiya\",\"Al Nujoom Islands\",\"Al Qasimia\",\"Al Quoz\",\"Al Qurm\",\"Al Qusaidat\",\"Al Raha Beach\",\"Al Raha Gardens\",\"Al Raha Golf Gardens\",\"Al Rahmaniya\",\"Al Rawda\",\"Al Reef\",\"Al Reem Island\",\"Al Riqqa\",\"Al Rowdat Suburb\",\"Al Safa\",\"Al Samha\",\"Al Satwa\",\"Al Sawan\",\"Al Shamkha\",\"Al Sufouh\",\"Al Surra\",\"Al Tai\",\"Al Tallah 2\",\"Al Twar\",\"Al Warqa'a\",\"Al Warsan\",\"Al Wasl\",\"Al Yasmeen\",\"Al Yelayiss 1\",\"Al Zahya\",\"Al Zorah\",\"Al Zubair\",\"Aljada\",\"Arabian Ranches\",\"Arabian Ranches 2\",\"Arabian Ranches 3\",\"Arjan\",\"Barsha Heights (Tecom)\",\"Bluewaters\",\"Business Bay\",\"City Walk\",\"Culture Village\",\"DAMAC Hills\",\"DIFC\",\"Damac Hills 2\",\"Damac Lagoons\",\"Deira\",\"Discovery Gardens\",\"Downtown Dubai\",\"Downtown Jebel Ali\",\"Dubai Creek Harbour (The Lagoons)\",\"Dubai Design District\",\"Dubai Festival City\",\"Dubai Harbour\",\"Dubai Healthcare City\",\"Dubai Hills Estate\",\"Dubai Internet City\",\"Dubai Investment Park (DIP)\",\"Dubai Land\",\"Dubai Marina\",\"Dubai Media City\",\"Dubai Production City (IMPZ)\",\"Dubai Residence Complex\",\"Dubai Science Park\",\"Dubai Silicon Oasis\",\"Dubai South (Dubai World Central)\",\"Dubai Sports City\",\"Dubai Studio City\",\"Emirates City\",\"Emirates Hills 2\",\"Expo City\",\"Falcon City of Wonders\",\"Garden City\",\"Ghantoot\",\"Golf City\",\"Grand Mosque District\",\"Green Community\",\"Greens\",\"Hayyan\",\"International City\",\"Jebel Ali\",\"Jumeirah\",\"Jumeirah Beach Residence\",\"Jumeirah Golf Estates\",\"Jumeirah Heights\",\"Jumeirah Islands\",\"Jumeirah Lake Towers\",\"Jumeirah Park\",\"Jumeirah Village Circle\",\"Jumeirah Village Triangle\",\"Khalifa City\",\"Khor Fakkan\",\"Living Legends\",\"Majan\",\"Manama\",\"Maritime City\",\"Maryam Island\",\"Masdar City\",\"Masfoot\",\"Meadows\",\"Meydan\",\"Mina Al Arab\",\"Mina Rashid\",\"Mirdif\",\"Mohammed Bin Rashid City\",\"Motor City\",\"Mudon\",\"Muwaileh\",\"Muwaileh Commercial\",\"Nad Al Sheba\",\"Nareel Island\",\"Old Town\",\"Palm Jebel Ali\",\"Palm Jumeirah\",\"Ramhan Island\",\"Ras Al Khaimah Waterfront\",\"Ras Al Khor\",\"Ras al Khaimah Gateway\",\"Reem\",\"Remraam\",\"Rukan\",\"Saadiyat Island\",\"Serena\",\"Sharjah Garden City\",\"Sharjah Sustainable City\",\"Sharm\",\"Sheikh Maktoum Bin Rashid Street\",\"The Hills\",\"The Lakes\",\"The Marina\",\"The Oasis by Emaar\",\"The Springs\",\"The Valley\",\"The Views\",\"The Villa\",\"The World Islands\",\"Tilal Al Ghaf\",\"Tilal City\",\"Town Square\",\"Umm Al Quwain Marina\",\"Umm Al Sheif\",\"Umm Suqeim\",\"Wadi Al Safa 2\",\"Wasl Gate\",\"World Trade Center\",\"Yas Island\",\"Yasmin Village\",\"Zabeel\",\"Abu Dhabi\",\"Ajman\",\"Al Ain\",\"Dubai\",\"Fujairah\",\"Ras Al Khaimah\",\"Sharjah\",\"Umm Al Quwain\",\"All Cities\"],\"marker\":{\"coloraxis\":\"coloraxis\",\"colors\":[1.0,8.0,9.0,2.0,28.0,5.0,4.0,16.0,12.0,3.0,1.0,1.0,1.0,122.0,4.0,1.0,50.0,31.0,8.0,11.0,15.0,12.0,3.0,13.0,1.0,3.0,25.0,1.0,67.0,4.0,10.0,7.0,3.0,1.0,9.0,4.0,2.0,1.0,2.0,3.0,1.0,7.0,1.0,1.0,1.0,2.0,19.0,69.0,1.0,4.0,1.0,1.0,3.0,2.0,24.0,11.0,1.0,1.0,1.0,1.0,1.0,7.0,17.0,33.0,1.0,35.0,5.0,1.0,40.0,28.0,11.0,64.0,106.0,4.0,8.0,180.0,32.0,14.0,95.0,28.0,80.0,77.0,33.0,27.0,240.0,3.0,117.0,6.0,1.0,97.0,8.0,154.0,3.0,69.0,116.0,187.0,3.0,38.0,39.0,10.0,13.0,87.0,76.0,11.0,3.0,3.0,6.0,2.0,1.0,6.0,3.0,1.0,7.0,17.0,40.0,8.0,37.0,51.0,63.0,49.0,2.0,11.0,108.0,24.0,211.0,50.0,17.0,2.0,9.0,7.0,2.0,12.0,7.0,12.0,1.0,6.0,107.0,66.0,11.0,4.0,208.0,24.0,26.0,17.0,17.0,20.0,1.0,11.0,14.0,125.0,3.0,1.0,1.0,1.0,15.0,23.0,19.0,58.0,5.0,3.0,15.0,2.0,2.0,3.0,5.0,1.0,15.0,28.0,68.0,8.0,15.0,1.0,65.0,40.0,73.0,10.0,3.0,37.0,5.0,9.0,1.0,113.0,1.0,23.0,62.49030470914128,21.214285714285715,1.0,107.82641700404858,2.0,57.73737373737374,27.74436090225564,9.181818181818182,94.95687222893994]},\"name\":\"\",\"parents\":[\"All Cities/Ajman\",\"All Cities/Ajman\",\"All Cities/Ajman\",\"All Cities/Ajman\",\"All Cities/Ajman\",\"All Cities/Sharjah\",\"All Cities/Ajman\",\"All Cities/Dubai\",\"All Cities/Dubai\",\"All Cities/Ajman\",\"All Cities/Al Ain\",\"All Cities/Ras Al Khaimah\",\"All Cities/Al Ain\",\"All Cities/Dubai\",\"All Cities/Abu Dhabi\",\"All Cities/Ajman\",\"All Cities/Ras Al Khaimah\",\"All Cities/Sharjah\",\"All Cities/Sharjah\",\"All Cities/Ajman\",\"All Cities/Dubai\",\"All Cities/Abu Dhabi\",\"All Cities/Sharjah\",\"All Cities/Dubai\",\"All Cities/Ras Al Khaimah\",\"All Cities/Sharjah\",\"All Cities/Sharjah\",\"All Cities/Abu Dhabi\",\"All Cities/Ras Al Khaimah\",\"All Cities/Abu Dhabi\",\"All Cities/Ajman\",\"All Cities/Dubai\",\"All Cities/Abu Dhabi\",\"All Cities/Sharjah\",\"All Cities/Ras Al Khaimah\",\"All Cities/Ajman\",\"All Cities/Sharjah\",\"All Cities/Sharjah\",\"All Cities/Dubai\",\"All Cities/Abu Dhabi\",\"All Cities/Ras Al Khaimah\",\"All Cities/Abu Dhabi\",\"All Cities/Abu Dhabi\",\"All Cities/Abu Dhabi\",\"All Cities/Sharjah\",\"All Cities/Ajman\",\"All Cities/Abu Dhabi\",\"All Cities/Abu Dhabi\",\"All Cities/Sharjah\",\"All Cities/Sharjah\",\"All Cities/Dubai\",\"All Cities/Abu Dhabi\",\"All Cities/Dubai\",\"All Cities/Ajman\",\"All Cities/Abu Dhabi\",\"All Cities/Dubai\",\"All Cities/Umm Al Quwain\",\"All Cities/Sharjah\",\"All Cities/Ajman\",\"All Cities/Dubai\",\"All Cities/Dubai\",\"All Cities/Dubai\",\"All Cities/Dubai\",\"All Cities/Ajman\",\"All Cities/Dubai\",\"All Cities/Ajman\",\"All Cities/Ajman\",\"All Cities/Sharjah\",\"All Cities/Sharjah\",\"All Cities/Dubai\",\"All Cities/Dubai\",\"All Cities/Dubai\",\"All Cities/Dubai\",\"All Cities/Dubai\",\"All Cities/Dubai\",\"All Cities/Dubai\",\"All Cities/Dubai\",\"All Cities/Dubai\",\"All Cities/Dubai\",\"All Cities/Dubai\",\"All Cities/Dubai\",\"All Cities/Dubai\",\"All Cities/Dubai\",\"All Cities/Dubai\",\"All Cities/Dubai\",\"All Cities/Dubai\",\"All Cities/Dubai\",\"All Cities/Dubai\",\"All Cities/Dubai\",\"All Cities/Dubai\",\"All Cities/Dubai\",\"All Cities/Dubai\",\"All Cities/Dubai\",\"All Cities/Dubai\",\"All Cities/Dubai\",\"All Cities/Dubai\",\"All Cities/Dubai\",\"All Cities/Dubai\",\"All Cities/Dubai\",\"All Cities/Dubai\",\"All Cities/Dubai\",\"All Cities/Dubai\",\"All Cities/Dubai\",\"All Cities/Dubai\",\"All Cities/Ajman\",\"All Cities/Dubai\",\"All Cities/Dubai\",\"All Cities/Dubai\",\"All Cities/Ajman\",\"All Cities/Abu Dhabi\",\"All Cities/Dubai\",\"All Cities/Abu Dhabi\",\"All Cities/Dubai\",\"All Cities/Dubai\",\"All Cities/Sharjah\",\"All Cities/Dubai\",\"All Cities/Dubai\",\"All Cities/Dubai\",\"All Cities/Dubai\",\"All Cities/Dubai\",\"All Cities/Dubai\",\"All Cities/Dubai\",\"All Cities/Dubai\",\"All Cities/Dubai\",\"All Cities/Dubai\",\"All Cities/Dubai\",\"All Cities/Abu Dhabi\",\"All Cities/Fujairah\",\"All Cities/Dubai\",\"All Cities/Dubai\",\"All Cities/Ajman\",\"All Cities/Dubai\",\"All Cities/Sharjah\",\"All Cities/Abu Dhabi\",\"All Cities/Ajman\",\"All Cities/Dubai\",\"All Cities/Dubai\",\"All Cities/Ras Al Khaimah\",\"All Cities/Dubai\",\"All Cities/Dubai\",\"All Cities/Dubai\",\"All Cities/Dubai\",\"All Cities/Dubai\",\"All Cities/Sharjah\",\"All Cities/Sharjah\",\"All Cities/Dubai\",\"All Cities/Abu Dhabi\",\"All Cities/Dubai\",\"All Cities/Dubai\",\"All Cities/Dubai\",\"All Cities/Abu Dhabi\",\"All Cities/Ras Al Khaimah\",\"All Cities/Dubai\",\"All Cities/Ras Al Khaimah\",\"All Cities/Dubai\",\"All Cities/Dubai\",\"All Cities/Dubai\",\"All Cities/Abu Dhabi\",\"All Cities/Dubai\",\"All Cities/Sharjah\",\"All Cities/Sharjah\",\"All Cities/Fujairah\",\"All Cities/Ajman\",\"All Cities/Dubai\",\"All Cities/Dubai\",\"All Cities/Abu Dhabi\",\"All Cities/Dubai\",\"All Cities/Dubai\",\"All Cities/Dubai\",\"All Cities/Dubai\",\"All Cities/Dubai\",\"All Cities/Dubai\",\"All Cities/Dubai\",\"All Cities/Sharjah\",\"All Cities/Dubai\",\"All Cities/Umm Al Quwain\",\"All Cities/Dubai\",\"All Cities/Dubai\",\"All Cities/Dubai\",\"All Cities/Dubai\",\"All Cities/Dubai\",\"All Cities/Abu Dhabi\",\"All Cities/Ras Al Khaimah\",\"All Cities/Dubai\",\"All Cities\",\"All Cities\",\"All Cities\",\"All Cities\",\"All Cities\",\"All Cities\",\"All Cities\",\"All Cities\",\"\"],\"values\":[1,8,9,2,28,5,4,16,12,3,1,1,1,122,4,1,50,31,8,11,15,12,3,13,1,3,25,1,67,4,10,7,3,1,9,4,2,1,2,3,1,7,1,1,1,2,19,69,1,4,1,1,3,2,24,11,1,1,1,1,1,7,17,33,1,35,5,1,40,28,11,64,106,4,8,180,32,14,95,28,80,77,33,27,240,3,117,6,1,97,8,154,3,69,116,187,3,38,39,10,13,87,76,11,3,3,6,2,1,6,3,1,7,17,40,8,37,51,63,49,2,11,108,24,211,50,17,2,9,7,2,12,7,12,1,6,107,66,11,4,208,24,26,17,17,20,1,11,14,125,3,1,1,1,15,23,19,58,5,3,15,2,2,3,5,1,15,28,68,8,15,1,65,40,73,10,3,37,5,9,1,113,1,23,361,168,2,3952,4,198,266,11,4962],\"type\":\"treemap\"}],                        {\"template\":{\"data\":{\"histogram2dcontour\":[{\"type\":\"histogram2dcontour\",\"colorbar\":{\"outlinewidth\":0,\"ticks\":\"\"},\"colorscale\":[[0.0,\"#0d0887\"],[0.1111111111111111,\"#46039f\"],[0.2222222222222222,\"#7201a8\"],[0.3333333333333333,\"#9c179e\"],[0.4444444444444444,\"#bd3786\"],[0.5555555555555556,\"#d8576b\"],[0.6666666666666666,\"#ed7953\"],[0.7777777777777778,\"#fb9f3a\"],[0.8888888888888888,\"#fdca26\"],[1.0,\"#f0f921\"]]}],\"choropleth\":[{\"type\":\"choropleth\",\"colorbar\":{\"outlinewidth\":0,\"ticks\":\"\"}}],\"histogram2d\":[{\"type\":\"histogram2d\",\"colorbar\":{\"outlinewidth\":0,\"ticks\":\"\"},\"colorscale\":[[0.0,\"#0d0887\"],[0.1111111111111111,\"#46039f\"],[0.2222222222222222,\"#7201a8\"],[0.3333333333333333,\"#9c179e\"],[0.4444444444444444,\"#bd3786\"],[0.5555555555555556,\"#d8576b\"],[0.6666666666666666,\"#ed7953\"],[0.7777777777777778,\"#fb9f3a\"],[0.8888888888888888,\"#fdca26\"],[1.0,\"#f0f921\"]]}],\"heatmap\":[{\"type\":\"heatmap\",\"colorbar\":{\"outlinewidth\":0,\"ticks\":\"\"},\"colorscale\":[[0.0,\"#0d0887\"],[0.1111111111111111,\"#46039f\"],[0.2222222222222222,\"#7201a8\"],[0.3333333333333333,\"#9c179e\"],[0.4444444444444444,\"#bd3786\"],[0.5555555555555556,\"#d8576b\"],[0.6666666666666666,\"#ed7953\"],[0.7777777777777778,\"#fb9f3a\"],[0.8888888888888888,\"#fdca26\"],[1.0,\"#f0f921\"]]}],\"heatmapgl\":[{\"type\":\"heatmapgl\",\"colorbar\":{\"outlinewidth\":0,\"ticks\":\"\"},\"colorscale\":[[0.0,\"#0d0887\"],[0.1111111111111111,\"#46039f\"],[0.2222222222222222,\"#7201a8\"],[0.3333333333333333,\"#9c179e\"],[0.4444444444444444,\"#bd3786\"],[0.5555555555555556,\"#d8576b\"],[0.6666666666666666,\"#ed7953\"],[0.7777777777777778,\"#fb9f3a\"],[0.8888888888888888,\"#fdca26\"],[1.0,\"#f0f921\"]]}],\"contourcarpet\":[{\"type\":\"contourcarpet\",\"colorbar\":{\"outlinewidth\":0,\"ticks\":\"\"}}],\"contour\":[{\"type\":\"contour\",\"colorbar\":{\"outlinewidth\":0,\"ticks\":\"\"},\"colorscale\":[[0.0,\"#0d0887\"],[0.1111111111111111,\"#46039f\"],[0.2222222222222222,\"#7201a8\"],[0.3333333333333333,\"#9c179e\"],[0.4444444444444444,\"#bd3786\"],[0.5555555555555556,\"#d8576b\"],[0.6666666666666666,\"#ed7953\"],[0.7777777777777778,\"#fb9f3a\"],[0.8888888888888888,\"#fdca26\"],[1.0,\"#f0f921\"]]}],\"surface\":[{\"type\":\"surface\",\"colorbar\":{\"outlinewidth\":0,\"ticks\":\"\"},\"colorscale\":[[0.0,\"#0d0887\"],[0.1111111111111111,\"#46039f\"],[0.2222222222222222,\"#7201a8\"],[0.3333333333333333,\"#9c179e\"],[0.4444444444444444,\"#bd3786\"],[0.5555555555555556,\"#d8576b\"],[0.6666666666666666,\"#ed7953\"],[0.7777777777777778,\"#fb9f3a\"],[0.8888888888888888,\"#fdca26\"],[1.0,\"#f0f921\"]]}],\"mesh3d\":[{\"type\":\"mesh3d\",\"colorbar\":{\"outlinewidth\":0,\"ticks\":\"\"}}],\"scatter\":[{\"fillpattern\":{\"fillmode\":\"overlay\",\"size\":10,\"solidity\":0.2},\"type\":\"scatter\"}],\"parcoords\":[{\"type\":\"parcoords\",\"line\":{\"colorbar\":{\"outlinewidth\":0,\"ticks\":\"\"}}}],\"scatterpolargl\":[{\"type\":\"scatterpolargl\",\"marker\":{\"colorbar\":{\"outlinewidth\":0,\"ticks\":\"\"}}}],\"bar\":[{\"error_x\":{\"color\":\"#2a3f5f\"},\"error_y\":{\"color\":\"#2a3f5f\"},\"marker\":{\"line\":{\"color\":\"#E5ECF6\",\"width\":0.5},\"pattern\":{\"fillmode\":\"overlay\",\"size\":10,\"solidity\":0.2}},\"type\":\"bar\"}],\"scattergeo\":[{\"type\":\"scattergeo\",\"marker\":{\"colorbar\":{\"outlinewidth\":0,\"ticks\":\"\"}}}],\"scatterpolar\":[{\"type\":\"scatterpolar\",\"marker\":{\"colorbar\":{\"outlinewidth\":0,\"ticks\":\"\"}}}],\"histogram\":[{\"marker\":{\"pattern\":{\"fillmode\":\"overlay\",\"size\":10,\"solidity\":0.2}},\"type\":\"histogram\"}],\"scattergl\":[{\"type\":\"scattergl\",\"marker\":{\"colorbar\":{\"outlinewidth\":0,\"ticks\":\"\"}}}],\"scatter3d\":[{\"type\":\"scatter3d\",\"line\":{\"colorbar\":{\"outlinewidth\":0,\"ticks\":\"\"}},\"marker\":{\"colorbar\":{\"outlinewidth\":0,\"ticks\":\"\"}}}],\"scattermapbox\":[{\"type\":\"scattermapbox\",\"marker\":{\"colorbar\":{\"outlinewidth\":0,\"ticks\":\"\"}}}],\"scatterternary\":[{\"type\":\"scatterternary\",\"marker\":{\"colorbar\":{\"outlinewidth\":0,\"ticks\":\"\"}}}],\"scattercarpet\":[{\"type\":\"scattercarpet\",\"marker\":{\"colorbar\":{\"outlinewidth\":0,\"ticks\":\"\"}}}],\"carpet\":[{\"aaxis\":{\"endlinecolor\":\"#2a3f5f\",\"gridcolor\":\"white\",\"linecolor\":\"white\",\"minorgridcolor\":\"white\",\"startlinecolor\":\"#2a3f5f\"},\"baxis\":{\"endlinecolor\":\"#2a3f5f\",\"gridcolor\":\"white\",\"linecolor\":\"white\",\"minorgridcolor\":\"white\",\"startlinecolor\":\"#2a3f5f\"},\"type\":\"carpet\"}],\"table\":[{\"cells\":{\"fill\":{\"color\":\"#EBF0F8\"},\"line\":{\"color\":\"white\"}},\"header\":{\"fill\":{\"color\":\"#C8D4E3\"},\"line\":{\"color\":\"white\"}},\"type\":\"table\"}],\"barpolar\":[{\"marker\":{\"line\":{\"color\":\"#E5ECF6\",\"width\":0.5},\"pattern\":{\"fillmode\":\"overlay\",\"size\":10,\"solidity\":0.2}},\"type\":\"barpolar\"}],\"pie\":[{\"automargin\":true,\"type\":\"pie\"}]},\"layout\":{\"autotypenumbers\":\"strict\",\"colorway\":[\"#636efa\",\"#EF553B\",\"#00cc96\",\"#ab63fa\",\"#FFA15A\",\"#19d3f3\",\"#FF6692\",\"#B6E880\",\"#FF97FF\",\"#FECB52\"],\"font\":{\"color\":\"#2a3f5f\"},\"hovermode\":\"closest\",\"hoverlabel\":{\"align\":\"left\"},\"paper_bgcolor\":\"white\",\"plot_bgcolor\":\"#E5ECF6\",\"polar\":{\"bgcolor\":\"#E5ECF6\",\"angularaxis\":{\"gridcolor\":\"white\",\"linecolor\":\"white\",\"ticks\":\"\"},\"radialaxis\":{\"gridcolor\":\"white\",\"linecolor\":\"white\",\"ticks\":\"\"}},\"ternary\":{\"bgcolor\":\"#E5ECF6\",\"aaxis\":{\"gridcolor\":\"white\",\"linecolor\":\"white\",\"ticks\":\"\"},\"baxis\":{\"gridcolor\":\"white\",\"linecolor\":\"white\",\"ticks\":\"\"},\"caxis\":{\"gridcolor\":\"white\",\"linecolor\":\"white\",\"ticks\":\"\"}},\"coloraxis\":{\"colorbar\":{\"outlinewidth\":0,\"ticks\":\"\"}},\"colorscale\":{\"sequential\":[[0.0,\"#0d0887\"],[0.1111111111111111,\"#46039f\"],[0.2222222222222222,\"#7201a8\"],[0.3333333333333333,\"#9c179e\"],[0.4444444444444444,\"#bd3786\"],[0.5555555555555556,\"#d8576b\"],[0.6666666666666666,\"#ed7953\"],[0.7777777777777778,\"#fb9f3a\"],[0.8888888888888888,\"#fdca26\"],[1.0,\"#f0f921\"]],\"sequentialminus\":[[0.0,\"#0d0887\"],[0.1111111111111111,\"#46039f\"],[0.2222222222222222,\"#7201a8\"],[0.3333333333333333,\"#9c179e\"],[0.4444444444444444,\"#bd3786\"],[0.5555555555555556,\"#d8576b\"],[0.6666666666666666,\"#ed7953\"],[0.7777777777777778,\"#fb9f3a\"],[0.8888888888888888,\"#fdca26\"],[1.0,\"#f0f921\"]],\"diverging\":[[0,\"#8e0152\"],[0.1,\"#c51b7d\"],[0.2,\"#de77ae\"],[0.3,\"#f1b6da\"],[0.4,\"#fde0ef\"],[0.5,\"#f7f7f7\"],[0.6,\"#e6f5d0\"],[0.7,\"#b8e186\"],[0.8,\"#7fbc41\"],[0.9,\"#4d9221\"],[1,\"#276419\"]]},\"xaxis\":{\"gridcolor\":\"white\",\"linecolor\":\"white\",\"ticks\":\"\",\"title\":{\"standoff\":15},\"zerolinecolor\":\"white\",\"automargin\":true,\"zerolinewidth\":2},\"yaxis\":{\"gridcolor\":\"white\",\"linecolor\":\"white\",\"ticks\":\"\",\"title\":{\"standoff\":15},\"zerolinecolor\":\"white\",\"automargin\":true,\"zerolinewidth\":2},\"scene\":{\"xaxis\":{\"backgroundcolor\":\"#E5ECF6\",\"gridcolor\":\"white\",\"linecolor\":\"white\",\"showbackground\":true,\"ticks\":\"\",\"zerolinecolor\":\"white\",\"gridwidth\":2},\"yaxis\":{\"backgroundcolor\":\"#E5ECF6\",\"gridcolor\":\"white\",\"linecolor\":\"white\",\"showbackground\":true,\"ticks\":\"\",\"zerolinecolor\":\"white\",\"gridwidth\":2},\"zaxis\":{\"backgroundcolor\":\"#E5ECF6\",\"gridcolor\":\"white\",\"linecolor\":\"white\",\"showbackground\":true,\"ticks\":\"\",\"zerolinecolor\":\"white\",\"gridwidth\":2}},\"shapedefaults\":{\"line\":{\"color\":\"#2a3f5f\"}},\"annotationdefaults\":{\"arrowcolor\":\"#2a3f5f\",\"arrowhead\":0,\"arrowwidth\":1},\"geo\":{\"bgcolor\":\"white\",\"landcolor\":\"#E5ECF6\",\"subunitcolor\":\"white\",\"showland\":true,\"showlakes\":true,\"lakecolor\":\"white\"},\"title\":{\"x\":0.05},\"mapbox\":{\"style\":\"light\"}}},\"coloraxis\":{\"colorbar\":{\"title\":{\"text\":\"count\"}},\"colorscale\":[[0.0,\"#440154\"],[0.1111111111111111,\"#482878\"],[0.2222222222222222,\"#3e4989\"],[0.3333333333333333,\"#31688e\"],[0.4444444444444444,\"#26828e\"],[0.5555555555555556,\"#1f9e89\"],[0.6666666666666666,\"#35b779\"],[0.7777777777777778,\"#6ece58\"],[0.8888888888888888,\"#b5de2b\"],[1.0,\"#fde725\"]]},\"legend\":{\"tracegroupgap\":0},\"title\":{\"text\":\"\\u041a\\u043e\\u043b\\u0438\\u0447\\u0435\\u0441\\u0442\\u0432\\u043e \\u043e\\u0431\\u044a\\u0435\\u043a\\u0442\\u043e\\u0432 \\u043d\\u0435\\u0434\\u0432\\u0438\\u0436\\u0438\\u043c\\u043e\\u0441\\u0442\\u0438 \\u043f\\u043e \\u0433\\u043e\\u0440\\u043e\\u0434\\u0430\\u043c\",\"font\":{\"family\":\"Arial\",\"size\":24,\"color\":\"black\"}}},                        {\"responsive\": true}                    ).then(function(){\n",
       "                            \n",
       "var gd = document.getElementById('9ef6bcec-622b-4c26-a2f1-f72ce2ef5335');\n",
       "var x = new MutationObserver(function (mutations, observer) {{\n",
       "        var display = window.getComputedStyle(gd).display;\n",
       "        if (!display || display === 'none') {{\n",
       "            console.log([gd, 'removed!']);\n",
       "            Plotly.purge(gd);\n",
       "            observer.disconnect();\n",
       "        }}\n",
       "}});\n",
       "\n",
       "// Listen for the removal of the full notebook cells\n",
       "var notebookContainer = gd.closest('#notebook-container');\n",
       "if (notebookContainer) {{\n",
       "    x.observe(notebookContainer, {childList: true});\n",
       "}}\n",
       "\n",
       "// Listen for the clearing of the current output cell\n",
       "var outputEl = gd.closest('.output');\n",
       "if (outputEl) {{\n",
       "    x.observe(outputEl, {childList: true});\n",
       "}}\n",
       "\n",
       "                        })                };                });            </script>        </div>"
      ]
     },
     "metadata": {},
     "output_type": "display_data"
    }
   ],
   "source": [
    "import pandas as pd\n",
    "import numpy as np\n",
    "import matplotlib.pyplot as plt\n",
    "import seaborn as sns\n",
    "from sklearn.model_selection import train_test_split, GridSearchCV\n",
    "from sklearn.metrics import mean_squared_error, r2_score\n",
    "import xgboost as xgb\n",
    "import shap\n",
    "import plotly.express as px\n",
    "import plotly.offline as pyo\n",
    "\n",
    "# Инициализация Plotly для Jupyter Notebook\n",
    "pyo.init_notebook_mode(connected=True)\n",
    "\n",
    "# Загрузка данных\n",
    "df = pd.read_csv('uae_real_estate_2024.csv')\n",
    "\n",
    "# Очистка данных\n",
    "# Конвертация площади из sqft в м²\n",
    "df['sizeMin'] = (\n",
    "    df['sizeMin']\n",
    "    .str.replace(' sqft', '', regex=False)\n",
    "    .str.replace(',', '', regex=False)\n",
    "    .replace('none', np.nan)  # Замена 'none' на NaN\n",
    "    .astype(float)\n",
    ")\n",
    "df['sizeMin'] = df['sizeMin'] * 0.092903  # Перевод в квадратные метры\n",
    "\n",
    "# Конвертация цен из AED в числовой формат\n",
    "df['price'] = df['price'].replace('none', np.nan).astype(float)\n",
    "\n",
    "# Замена 'none' в других столбцах\n",
    "df['bathrooms'] = df['bathrooms'].replace('none', np.nan).replace('7+', '7').astype(float)\n",
    "df['bedrooms'] = df['bedrooms'].replace('none', np.nan).replace('7+', '7').replace('studio', 0).astype(float)\n",
    "\n",
    "# Заполнение пропусков медианой\n",
    "df['sizeMin'] = df['sizeMin'].fillna(df['sizeMin'].median())\n",
    "df['price'] = df['price'].fillna(df['price'].median())\n",
    "df['bathrooms'] = df['bathrooms'].fillna(df['bathrooms'].median())\n",
    "df['bedrooms'] = df['bedrooms'].fillna(df['bedrooms'].median())\n",
    "\n",
    "# Удаление выбросов\n",
    "df = df[(df['price'] < df['price'].quantile(0.99)) & (df['sizeMin'] < df['sizeMin'].quantile(0.99))]\n",
    "\n",
    "# Разделение данных\n",
    "X = df[['sizeMin', 'bathrooms', 'bedrooms']]\n",
    "y = df['price']\n",
    "X_train, X_test, y_train, y_test = train_test_split(X, y, test_size=0.2, random_state=42)\n",
    "\n",
    "# Логарифмическое преобразование целевой переменной для улучшения модели\n",
    "y_train = np.log1p(y_train)\n",
    "y_test = np.log1p(y_test)\n",
    "\n",
    "# Поиск лучших гиперпараметров с использованием GridSearchCV\n",
    "param_grid = {\n",
    "    'max_depth': [6, 8, 10],\n",
    "    'learning_rate': [0.01, 0.05, 0.1],\n",
    "    'n_estimators': [100, 200, 300],\n",
    "    'subsample': [0.8, 1.0],\n",
    "    'colsample_bytree': [0.8, 1.0]\n",
    "}\n",
    "\n",
    "# XGBRegressor\n",
    "xg_model = xgb.XGBRegressor(random_state=42)\n",
    "\n",
    "# Поиск по сетке\n",
    "grid_search = GridSearchCV(xg_model, param_grid, cv=3, scoring='neg_mean_squared_error', n_jobs=-1)\n",
    "grid_search.fit(X_train, y_train)\n",
    "\n",
    "# Лучшие параметры\n",
    "print(\"Лучшие гиперпараметры:\", grid_search.best_params_)\n",
    "\n",
    "# Оценка модели с лучшими параметрами\n",
    "best_model = grid_search.best_estimator_\n",
    "y_pred = best_model.predict(X_test)\n",
    "rmse = np.sqrt(mean_squared_error(y_test, y_pred))\n",
    "r2 = r2_score(y_test, y_pred)\n",
    "print(f\"RMSE после настройки: {rmse:.2f}\")\n",
    "print(f\"R² после настройки: {r2:.2f}\")\n",
    "\n",
    "# График сравнения реальных и предсказанных цен (в дирхамах)\n",
    "plt.figure(figsize=(10, 6))\n",
    "plt.scatter(np.expm1(y_test), np.expm1(y_pred), alpha=0.6, color='purple', label='Предсказания')\n",
    "plt.plot([y.min(), y.max()], [y.min(), y.max()], 'r--', label='Идеальное предсказание')\n",
    "plt.title(\"Сравнение реальных и предсказанных цен\", fontsize=16)\n",
    "plt.xlabel(\"Реальные цены (AED)\", fontsize=14)\n",
    "plt.ylabel(\"Предсказанные цены (AED)\", fontsize=14)\n",
    "plt.legend(fontsize=12)\n",
    "plt.grid(alpha=0.4)\n",
    "plt.tight_layout()\n",
    "plt.show()\n",
    "\n",
    "# Важность признаков\n",
    "plt.figure(figsize=(8, 6))\n",
    "xgb.plot_importance(best_model, importance_type='weight', xlabel=\"Важность\", grid=False)\n",
    "plt.title(\"Важность признаков (XGBoost)\", fontsize=16)\n",
    "plt.tight_layout()\n",
    "plt.show()\n",
    "\n",
    "# Корреляция между признаками\n",
    "correlation_matrix = df[['price', 'sizeMin', 'bathrooms', 'bedrooms']].corr()\n",
    "plt.figure(figsize=(8, 6))\n",
    "sns.heatmap(correlation_matrix, annot=True, cmap='coolwarm', fmt=\".2f\")\n",
    "plt.title(\"Матрица корреляций\", fontsize=16)\n",
    "plt.tight_layout()\n",
    "plt.show()\n",
    "\n",
    "# Проверка значимости отдельных признаков\n",
    "feature_rmse = {}\n",
    "for feature in X.columns:\n",
    "    X_single = X_train[[feature]]\n",
    "    model = xgb.XGBRegressor(random_state=42)\n",
    "    model.fit(X_single, y_train)\n",
    "    y_single_pred = model.predict(X_test[[feature]])\n",
    "    rmse_single = np.sqrt(mean_squared_error(y_test, y_single_pred))\n",
    "    feature_rmse[feature] = rmse_single\n",
    "print(\"Значимость отдельных признаков (RMSE):\")\n",
    "for feature, rmse_val in feature_rmse.items():\n",
    "    print(f\"{feature}: RMSE = {rmse_val:.2f}\")\n",
    "\n",
    "# SHAP для интерпретации\n",
    "explainer = shap.Explainer(best_model, X_test)\n",
    "shap_values = explainer(X_test)\n",
    "\n",
    "# Визуализация SHAP\n",
    "shap.summary_plot(shap_values, X_test)\n",
    "\n",
    "# Анализ по городам и районам\n",
    "df = df[~df[['title', 'displayAddress', 'sizeMin']].duplicated()]\n",
    "\n",
    "# Разделение адреса на компоненты\n",
    "df['city'] = df.displayAddress.str.split(',').apply(lambda x: x[-1].strip())\n",
    "df['area_1'] = df.displayAddress.str.split(',').apply(lambda x: x[-2].strip())\n",
    "\n",
    "# Подсчет количества объявлений по городам и районам\n",
    "data_df = df[['city', 'area_1']].groupby(by=['city', 'area_1']).size().reset_index(name='count')\n",
    "\n",
    "# Выборка топ 10 городов по количеству объявлений\n",
    "top_10_cities = data_df.groupby('city')['count'].sum().nlargest(10).index\n",
    "data_df_top_10 = data_df[data_df['city'].isin(top_10_cities)]\n",
    "\n",
    "# Визуализация с использованием Plotly Treemap\n",
    "fig = px.treemap(\n",
    "    data_df_top_10, \n",
    "    path=[px.Constant(\"All Cities\"), 'city', 'area_1'], \n",
    "    values='count',\n",
    "    color='count',\n",
    "    color_continuous_scale='Viridis',\n",
    "    title=\"Количество объектов недвижимости по городам\"\n",
    ")\n",
    "\n",
    "# Обновление шрифта для title\n",
    "fig.update_layout(\n",
    "    title_font=dict(\n",
    "        family=\"Arial\",  # Шрифт\n",
    "        size=24,         # Размер шрифта\n",
    "        color=\"black\"    # Цвет шрифта\n",
    "    )\n",
    ")\n",
    "fig.show()\n"
   ]
  },
  {
   "cell_type": "code",
   "execution_count": null,
   "id": "78eb0af8-a5f9-434c-b25c-8ca381239734",
   "metadata": {},
   "outputs": [],
   "source": []
  }
 ],
 "metadata": {
  "kernelspec": {
   "display_name": "Python 3 (ipykernel)",
   "language": "python",
   "name": "python3"
  },
  "language_info": {
   "codemirror_mode": {
    "name": "ipython",
    "version": 3
   },
   "file_extension": ".py",
   "mimetype": "text/x-python",
   "name": "python",
   "nbconvert_exporter": "python",
   "pygments_lexer": "ipython3",
   "version": "3.9.13"
  }
 },
 "nbformat": 4,
 "nbformat_minor": 5
}
